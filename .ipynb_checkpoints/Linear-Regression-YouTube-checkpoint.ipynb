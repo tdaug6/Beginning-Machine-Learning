{
 "cells": [
  {
   "cell_type": "markdown",
   "id": "3b0058a7",
   "metadata": {},
   "source": [
    "# Linear Regression YouTube Tutorial"
   ]
  },
  {
   "cell_type": "markdown",
   "id": "69027ad4",
   "metadata": {},
   "source": [
    "## Creating a model using SciKit Learn"
   ]
  },
  {
   "cell_type": "markdown",
   "id": "d1842b72",
   "metadata": {},
   "source": [
    "### Import libraries\n",
    "\n",
    "`pandas` used to access and manipulate data\n",
    "\n",
    "`numpy` used to manipulate data in arrays\n",
    "\n",
    "`matplotlib.pyplot` used to visualize data"
   ]
  },
  {
   "cell_type": "code",
   "execution_count": 2,
   "id": "e9ba4fe8",
   "metadata": {},
   "outputs": [],
   "source": [
    "import pandas as pd\n",
    "import numpy as np\n",
    "import matplotlib.pyplot as plt"
   ]
  },
  {
   "cell_type": "markdown",
   "id": "c5a7624d",
   "metadata": {},
   "source": [
    "### Load a dataset\n",
    "\n",
    "Using `california_housing.csv` to base models on "
   ]
  },
  {
   "cell_type": "code",
   "execution_count": 5,
   "id": "48134454",
   "metadata": {},
   "outputs": [
    {
     "data": {
      "text/html": [
       "<div>\n",
       "<style scoped>\n",
       "    .dataframe tbody tr th:only-of-type {\n",
       "        vertical-align: middle;\n",
       "    }\n",
       "\n",
       "    .dataframe tbody tr th {\n",
       "        vertical-align: top;\n",
       "    }\n",
       "\n",
       "    .dataframe thead th {\n",
       "        text-align: right;\n",
       "    }\n",
       "</style>\n",
       "<table border=\"1\" class=\"dataframe\">\n",
       "  <thead>\n",
       "    <tr style=\"text-align: right;\">\n",
       "      <th></th>\n",
       "      <th>longitude</th>\n",
       "      <th>latitude</th>\n",
       "      <th>housing_median_age</th>\n",
       "      <th>total_rooms</th>\n",
       "      <th>total_bedrooms</th>\n",
       "      <th>population</th>\n",
       "      <th>households</th>\n",
       "      <th>median_income</th>\n",
       "      <th>median_house_value</th>\n",
       "    </tr>\n",
       "  </thead>\n",
       "  <tbody>\n",
       "    <tr>\n",
       "      <th>0</th>\n",
       "      <td>-114.31</td>\n",
       "      <td>34.19</td>\n",
       "      <td>15.0</td>\n",
       "      <td>5612.0</td>\n",
       "      <td>1283.0</td>\n",
       "      <td>1015.0</td>\n",
       "      <td>472.0</td>\n",
       "      <td>1.4936</td>\n",
       "      <td>66900.0</td>\n",
       "    </tr>\n",
       "    <tr>\n",
       "      <th>1</th>\n",
       "      <td>-114.47</td>\n",
       "      <td>34.40</td>\n",
       "      <td>19.0</td>\n",
       "      <td>7650.0</td>\n",
       "      <td>1901.0</td>\n",
       "      <td>1129.0</td>\n",
       "      <td>463.0</td>\n",
       "      <td>1.8200</td>\n",
       "      <td>80100.0</td>\n",
       "    </tr>\n",
       "    <tr>\n",
       "      <th>2</th>\n",
       "      <td>-114.56</td>\n",
       "      <td>33.69</td>\n",
       "      <td>17.0</td>\n",
       "      <td>720.0</td>\n",
       "      <td>174.0</td>\n",
       "      <td>333.0</td>\n",
       "      <td>117.0</td>\n",
       "      <td>1.6509</td>\n",
       "      <td>85700.0</td>\n",
       "    </tr>\n",
       "    <tr>\n",
       "      <th>3</th>\n",
       "      <td>-114.57</td>\n",
       "      <td>33.64</td>\n",
       "      <td>14.0</td>\n",
       "      <td>1501.0</td>\n",
       "      <td>337.0</td>\n",
       "      <td>515.0</td>\n",
       "      <td>226.0</td>\n",
       "      <td>3.1917</td>\n",
       "      <td>73400.0</td>\n",
       "    </tr>\n",
       "    <tr>\n",
       "      <th>4</th>\n",
       "      <td>-114.57</td>\n",
       "      <td>33.57</td>\n",
       "      <td>20.0</td>\n",
       "      <td>1454.0</td>\n",
       "      <td>326.0</td>\n",
       "      <td>624.0</td>\n",
       "      <td>262.0</td>\n",
       "      <td>1.9250</td>\n",
       "      <td>65500.0</td>\n",
       "    </tr>\n",
       "  </tbody>\n",
       "</table>\n",
       "</div>"
      ],
      "text/plain": [
       "   longitude  latitude  housing_median_age  total_rooms  total_bedrooms   \n",
       "0    -114.31     34.19                15.0       5612.0          1283.0  \\\n",
       "1    -114.47     34.40                19.0       7650.0          1901.0   \n",
       "2    -114.56     33.69                17.0        720.0           174.0   \n",
       "3    -114.57     33.64                14.0       1501.0           337.0   \n",
       "4    -114.57     33.57                20.0       1454.0           326.0   \n",
       "\n",
       "   population  households  median_income  median_house_value  \n",
       "0      1015.0       472.0         1.4936             66900.0  \n",
       "1      1129.0       463.0         1.8200             80100.0  \n",
       "2       333.0       117.0         1.6509             85700.0  \n",
       "3       515.0       226.0         3.1917             73400.0  \n",
       "4       624.0       262.0         1.9250             65500.0  "
      ]
     },
     "execution_count": 5,
     "metadata": {},
     "output_type": "execute_result"
    }
   ],
   "source": [
    "df = pd.read_csv('california_housing_train.csv')\n",
    "\n",
    "df.head()"
   ]
  },
  {
   "cell_type": "markdown",
   "id": "bd29e155",
   "metadata": {},
   "source": [
    "### Extract features from dataset\n",
    "\n",
    "Using the `population` as the independent variable\n",
    "\n",
    "Using `total_bedrooms` as the dependent variable"
   ]
  },
  {
   "cell_type": "code",
   "execution_count": 9,
   "id": "827029ab",
   "metadata": {},
   "outputs": [
    {
     "data": {
      "text/plain": [
       "(0        1015.0\n",
       " 1        1129.0\n",
       " 2         333.0\n",
       " 3         515.0\n",
       " 4         624.0\n",
       "           ...  \n",
       " 16995     907.0\n",
       " 16996    1194.0\n",
       " 16997    1244.0\n",
       " 16998    1298.0\n",
       " 16999     806.0\n",
       " Name: population, Length: 17000, dtype: float64,\n",
       " 0        1283.0\n",
       " 1        1901.0\n",
       " 2         174.0\n",
       " 3         337.0\n",
       " 4         326.0\n",
       "           ...  \n",
       " 16995     394.0\n",
       " 16996     528.0\n",
       " 16997     531.0\n",
       " 16998     552.0\n",
       " 16999     300.0\n",
       " Name: total_bedrooms, Length: 17000, dtype: float64)"
      ]
     },
     "execution_count": 9,
     "metadata": {},
     "output_type": "execute_result"
    }
   ],
   "source": [
    "pop = df['population']\n",
    "bedrooms = df['total_bedrooms']\n",
    "\n",
    "pop,bedrooms"
   ]
  },
  {
   "cell_type": "markdown",
   "id": "79399bf6",
   "metadata": {},
   "source": [
    "### Visualize data"
   ]
  },
  {
   "cell_type": "code",
   "execution_count": 10,
   "id": "fbecb6dd",
   "metadata": {},
   "outputs": [
    {
     "data": {
      "image/png": "[encoded data removed]",
      "text/plain": [
       "<Figure size 640x480 with 1 Axes>"
      ]
     },
     "metadata": {},
     "output_type": "display_data"
    }
   ],
   "source": [
    "plt.scatter(pop,bedrooms)\n",
    "plt.xlabel('population')\n",
    "plt.ylabel('total bedrooms')\n",
    "\n",
    "plt.show()"
   ]
  },
  {
   "cell_type": "markdown",
   "id": "1efc22fe",
   "metadata": {},
   "source": [
    "### Convert feature series to NumPy arrays\n",
    "\n",
    "This is accomplished by using `to_numpy()`"
   ]
  },
  {
   "cell_type": "code",
   "execution_count": 11,
   "id": "ae695f13",
   "metadata": {},
   "outputs": [],
   "source": [
    "pop_np = pop.to_numpy()\n",
    "bedrooms_np = bedrooms.to_numpy()"
   ]
  },
  {
   "cell_type": "markdown",
   "id": "2fc1e0ed",
   "metadata": {},
   "source": [
    "### Create a Linear Regression model\n",
    "\n",
    "Use `LinearRegression` from `sklearn.linear_model` to build the model\n",
    "\n",
    "Use the model to predict the values for `total_bedrooms` from the existing `population` values"
   ]
  },
  {
   "cell_type": "code",
   "execution_count": 14,
   "id": "d3b99f08",
   "metadata": {},
   "outputs": [],
   "source": [
    "from sklearn.linear_model import LinearRegression as LR\n",
    "\n",
    "sklearn_model = LR().fit(pop_np.reshape((17000,1)), bedrooms_np)\n",
    "sklearn_bedroom_predictions = sklearn_model.predict(pop_np.reshape((17000,1)))"
   ]
  },
  {
   "cell_type": "markdown",
   "id": "5808c178",
   "metadata": {},
   "source": [
    "### Visualize the new model\n",
    "\n",
    "Plot the scatterplot of points and the predicted points"
   ]
  },
  {
   "cell_type": "code",
   "execution_count": 15,
   "id": "f0d62302",
   "metadata": {},
   "outputs": [
    {
     "data": {
      "image/png": "[encoded data removed]",
      "text/plain": [
       "<Figure size 640x480 with 1 Axes>"
      ]
     },
     "metadata": {},
     "output_type": "display_data"
    }
   ],
   "source": [
    "plt.scatter(pop,bedrooms)\n",
    "\n",
    "plt.scatter(pop, sklearn_bedroom_predictions)\n",
    "plt.xlabel('population')\n",
    "plt.ylabel('total bedrooms')\n",
    "\n",
    "plt.show()"
   ]
  },
  {
   "cell_type": "markdown",
   "id": "45bcda78",
   "metadata": {},
   "source": [
    "### Create a dataset of features and predictions"
   ]
  },
  {
   "cell_type": "code",
   "execution_count": 17,
   "id": "a86efd51",
   "metadata": {},
   "outputs": [
    {
     "data": {
      "text/html": [
       "<div>\n",
       "<style scoped>\n",
       "    .dataframe tbody tr th:only-of-type {\n",
       "        vertical-align: middle;\n",
       "    }\n",
       "\n",
       "    .dataframe tbody tr th {\n",
       "        vertical-align: top;\n",
       "    }\n",
       "\n",
       "    .dataframe thead th {\n",
       "        text-align: right;\n",
       "    }\n",
       "</style>\n",
       "<table border=\"1\" class=\"dataframe\">\n",
       "  <thead>\n",
       "    <tr style=\"text-align: right;\">\n",
       "      <th></th>\n",
       "      <th>Population</th>\n",
       "      <th>Bedrooms</th>\n",
       "      <th>Sklearn Bedroom Predictions</th>\n",
       "    </tr>\n",
       "  </thead>\n",
       "  <tbody>\n",
       "    <tr>\n",
       "      <th>0</th>\n",
       "      <td>1015.0</td>\n",
       "      <td>1283.0</td>\n",
       "      <td>405.266668</td>\n",
       "    </tr>\n",
       "    <tr>\n",
       "      <th>1</th>\n",
       "      <td>1129.0</td>\n",
       "      <td>1901.0</td>\n",
       "      <td>442.153776</td>\n",
       "    </tr>\n",
       "    <tr>\n",
       "      <th>2</th>\n",
       "      <td>333.0</td>\n",
       "      <td>174.0</td>\n",
       "      <td>184.591162</td>\n",
       "    </tr>\n",
       "    <tr>\n",
       "      <th>3</th>\n",
       "      <td>515.0</td>\n",
       "      <td>337.0</td>\n",
       "      <td>243.481106</td>\n",
       "    </tr>\n",
       "    <tr>\n",
       "      <th>4</th>\n",
       "      <td>624.0</td>\n",
       "      <td>326.0</td>\n",
       "      <td>278.750359</td>\n",
       "    </tr>\n",
       "  </tbody>\n",
       "</table>\n",
       "</div>"
      ],
      "text/plain": [
       "   Population  Bedrooms  Sklearn Bedroom Predictions\n",
       "0      1015.0    1283.0                   405.266668\n",
       "1      1129.0    1901.0                   442.153776\n",
       "2       333.0     174.0                   184.591162\n",
       "3       515.0     337.0                   243.481106\n",
       "4       624.0     326.0                   278.750359"
      ]
     },
     "execution_count": 17,
     "metadata": {},
     "output_type": "execute_result"
    }
   ],
   "source": [
    "predictions_df = pd.DataFrame({'Population':pop,\n",
    "                               'Bedrooms':bedrooms,\n",
    "                                'Sklearn Bedroom Predictions':sklearn_bedroom_predictions})\n",
    "\n",
    "predictions_df.head()"
   ]
  }
 ],
 "metadata": {
  "kernelspec": {
   "display_name": "Python 3 (ipykernel)",
   "language": "python",
   "name": "python3"
  },
  "language_info": {
   "codemirror_mode": {
    "name": "ipython",
    "version": 3
   },
   "file_extension": ".py",
   "mimetype": "text/x-python",
   "name": "python",
   "nbconvert_exporter": "python",
   "pygments_lexer": "ipython3",
   "version": "3.10.0"
  }
 },
 "nbformat": 4,
 "nbformat_minor": 5
}
