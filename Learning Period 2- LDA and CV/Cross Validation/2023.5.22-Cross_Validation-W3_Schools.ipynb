{
 "cells": [
  {
   "cell_type": "markdown",
   "id": "3796ff94",
   "metadata": {},
   "source": [
    "# Cross Validation on W3 Schools\n",
    "\n",
    "Perform cross validation on the Iris dataset"
   ]
  },
  {
   "cell_type": "markdown",
   "id": "14b59985",
   "metadata": {},
   "source": [
    "## Prepare constant material"
   ]
  },
  {
   "cell_type": "markdown",
   "id": "8c882bff",
   "metadata": {},
   "source": [
    "### Import dataset"
   ]
  },
  {
   "cell_type": "code",
   "execution_count": 1,
   "id": "c4638493",
   "metadata": {},
   "outputs": [],
   "source": [
    "from sklearn import datasets\n",
    "\n",
    "X, y = datasets.load_iris(return_X_y=True)"
   ]
  },
  {
   "cell_type": "markdown",
   "id": "f7b03191",
   "metadata": {},
   "source": [
    "### Build model"
   ]
  },
  {
   "cell_type": "code",
   "execution_count": 2,
   "id": "77232eba",
   "metadata": {},
   "outputs": [],
   "source": [
    "from sklearn.tree import DecisionTreeClassifier\n",
    "\n",
    "clf = DecisionTreeClassifier(random_state=42)"
   ]
  },
  {
   "cell_type": "markdown",
   "id": "d7dbb63b",
   "metadata": {},
   "source": [
    "### Display results function"
   ]
  },
  {
   "cell_type": "code",
   "execution_count": 3,
   "id": "558710b7",
   "metadata": {},
   "outputs": [],
   "source": [
    "def display_results(scores):\n",
    "    print(\"Cross Validation scores:\", scores)\n",
    "    print(\"Average CV score:\", scores.mean())\n",
    "    print('Number of CV scores used in average:', len(scores))"
   ]
  },
  {
   "cell_type": "markdown",
   "id": "d91e15d6",
   "metadata": {},
   "source": [
    "## K-Fold method\n",
    "\n",
    "Split the data into k number of smaller sets to validated model."
   ]
  },
  {
   "cell_type": "markdown",
   "id": "7ae9815e",
   "metadata": {},
   "source": [
    "### Import Cross-validation method"
   ]
  },
  {
   "cell_type": "code",
   "execution_count": 4,
   "id": "2b358a41",
   "metadata": {},
   "outputs": [],
   "source": [
    "from sklearn.model_selection import KFold, cross_val_score"
   ]
  },
  {
   "cell_type": "markdown",
   "id": "3b441e7b",
   "metadata": {},
   "source": [
    "### Evaluate model"
   ]
  },
  {
   "cell_type": "code",
   "execution_count": 5,
   "id": "e9d63457",
   "metadata": {},
   "outputs": [],
   "source": [
    "k_folds = KFold(n_splits=5)\n",
    "\n",
    "scores = cross_val_score(clf, X, y, cv=k_folds)"
   ]
  },
  {
   "cell_type": "markdown",
   "id": "548d579c",
   "metadata": {},
   "source": [
    "### Display results"
   ]
  },
  {
   "cell_type": "code",
   "execution_count": 6,
   "id": "be690a7d",
   "metadata": {},
   "outputs": [
    {
     "name": "stdout",
     "output_type": "stream",
     "text": [
      "Cross Validation scores: [1.         1.         0.83333333 0.93333333 0.8       ]\n",
      "Average CV score: 0.9133333333333333\n",
      "Number of CV scores used in average: 5\n"
     ]
    }
   ],
   "source": [
    "display_results(scores)"
   ]
  },
  {
   "cell_type": "markdown",
   "id": "ea1bb8bf",
   "metadata": {},
   "source": [
    "## Stratified K-Fold method\n",
    "\n",
    "Account for imbalance in train and test classes"
   ]
  },
  {
   "cell_type": "markdown",
   "id": "e07cc0cc",
   "metadata": {},
   "source": [
    "### Import cross-validation method"
   ]
  },
  {
   "cell_type": "code",
   "execution_count": 7,
   "id": "b7156502",
   "metadata": {},
   "outputs": [],
   "source": [
    "from sklearn.model_selection import StratifiedKFold"
   ]
  },
  {
   "cell_type": "markdown",
   "id": "dc64df05",
   "metadata": {},
   "source": [
    "### Evaluate model"
   ]
  },
  {
   "cell_type": "code",
   "execution_count": 8,
   "id": "39a46225",
   "metadata": {},
   "outputs": [],
   "source": [
    "sk_folds = StratifiedKFold(n_splits = 5)\n",
    "\n",
    "scores = cross_val_score(clf, X, y, cv=sk_folds)"
   ]
  },
  {
   "cell_type": "markdown",
   "id": "c2f2fad9",
   "metadata": {},
   "source": [
    "### Display results"
   ]
  },
  {
   "cell_type": "code",
   "execution_count": 9,
   "id": "950d1d2c",
   "metadata": {},
   "outputs": [
    {
     "name": "stdout",
     "output_type": "stream",
     "text": [
      "Cross Validation scores: [0.96666667 0.96666667 0.9        0.93333333 1.        ]\n",
      "Average CV score: 0.9533333333333334\n",
      "Number of CV scores used in average: 5\n"
     ]
    }
   ],
   "source": [
    "display_results(scores)"
   ]
  },
  {
   "cell_type": "markdown",
   "id": "b7dc4a7d",
   "metadata": {},
   "source": [
    "## Leave-One-Out\n",
    "\n",
    "Use all points but one to train the model"
   ]
  },
  {
   "cell_type": "markdown",
   "id": "1018d409",
   "metadata": {},
   "source": [
    "### Import cross validation method"
   ]
  },
  {
   "cell_type": "code",
   "execution_count": 10,
   "id": "84610334",
   "metadata": {},
   "outputs": [],
   "source": [
    "from sklearn.model_selection import LeaveOneOut"
   ]
  },
  {
   "cell_type": "markdown",
   "id": "12db261c",
   "metadata": {},
   "source": [
    "### Evaluate model"
   ]
  },
  {
   "cell_type": "code",
   "execution_count": 12,
   "id": "8c471c24",
   "metadata": {},
   "outputs": [],
   "source": [
    "loo = LeaveOneOut()\n",
    "\n",
    "scores = cross_val_score(clf, X, y, cv=loo)"
   ]
  },
  {
   "cell_type": "markdown",
   "id": "375462b8",
   "metadata": {},
   "source": [
    "### Display results"
   ]
  },
  {
   "cell_type": "code",
   "execution_count": 13,
   "id": "50f2bc1a",
   "metadata": {},
   "outputs": [
    {
     "name": "stdout",
     "output_type": "stream",
     "text": [
      "Cross Validation scores: [1. 1. 1. 1. 1. 1. 1. 1. 1. 1. 1. 1. 1. 1. 1. 1. 1. 1. 1. 1. 1. 1. 1. 1.\n",
      " 1. 1. 1. 1. 1. 1. 1. 1. 1. 1. 1. 1. 1. 1. 1. 1. 1. 1. 1. 1. 1. 1. 1. 1.\n",
      " 1. 1. 1. 1. 1. 1. 1. 1. 1. 0. 1. 1. 1. 1. 1. 1. 1. 1. 1. 1. 1. 1. 0. 1.\n",
      " 1. 1. 1. 1. 1. 0. 1. 1. 1. 1. 1. 0. 1. 1. 1. 1. 1. 1. 1. 1. 1. 1. 1. 1.\n",
      " 1. 1. 1. 1. 1. 1. 1. 1. 1. 1. 0. 1. 1. 1. 1. 1. 1. 1. 1. 1. 1. 1. 1. 0.\n",
      " 1. 1. 1. 1. 1. 1. 1. 1. 1. 0. 1. 1. 1. 0. 1. 1. 1. 1. 0. 1. 1. 1. 1. 1.\n",
      " 1. 1. 1. 1. 1. 1.]\n",
      "Average CV score: 0.94\n",
      "Number of CV scores used in average: 150\n"
     ]
    }
   ],
   "source": [
    "display_results(scores)"
   ]
  },
  {
   "cell_type": "markdown",
   "id": "9155a2e8",
   "metadata": {},
   "source": [
    "## Leave-P-Out\n",
    "\n",
    "Similar to Leave-One-Out, but leaving a number 'p' out"
   ]
  },
  {
   "cell_type": "markdown",
   "id": "107c0ace",
   "metadata": {},
   "source": [
    "### Import cross validation method"
   ]
  },
  {
   "cell_type": "code",
   "execution_count": 14,
   "id": "ba8d1700",
   "metadata": {},
   "outputs": [],
   "source": [
    "from sklearn.model_selection import LeavePOut"
   ]
  },
  {
   "cell_type": "markdown",
   "id": "48e099d4",
   "metadata": {},
   "source": [
    "### Evaluate model"
   ]
  },
  {
   "cell_type": "code",
   "execution_count": 16,
   "id": "1d1b81a7",
   "metadata": {},
   "outputs": [],
   "source": [
    "lpo = LeavePOut(p=2)\n",
    "\n",
    "scores = cross_val_score(clf, X, y, cv=lpo)"
   ]
  },
  {
   "cell_type": "markdown",
   "id": "bd503608",
   "metadata": {},
   "source": [
    "### Display Results"
   ]
  },
  {
   "cell_type": "code",
   "execution_count": 17,
   "id": "3c8b9460",
   "metadata": {},
   "outputs": [
    {
     "name": "stdout",
     "output_type": "stream",
     "text": [
      "Cross Validation scores: [1. 1. 1. ... 1. 1. 1.]\n",
      "Average CV score: 0.9382997762863534\n",
      "Number of CV scores used in average: 11175\n"
     ]
    }
   ],
   "source": [
    "display_results(scores)"
   ]
  }
 ],
 "metadata": {
  "kernelspec": {
   "display_name": "Python 3 (ipykernel)",
   "language": "python",
   "name": "python3"
  },
  "language_info": {
   "codemirror_mode": {
    "name": "ipython",
    "version": 3
   },
   "file_extension": ".py",
   "mimetype": "text/x-python",
   "name": "python",
   "nbconvert_exporter": "python",
   "pygments_lexer": "ipython3",
   "version": "3.10.0"
  }
 },
 "nbformat": 4,
 "nbformat_minor": 5
}
