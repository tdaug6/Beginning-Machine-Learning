{
 "cells": [
  {
   "cell_type": "markdown",
   "id": "de826ea6",
   "metadata": {},
   "source": [
    "# Linear Discriminant Analysis on Iris\n",
    "\n",
    "This code is from a tutorial by Statology. The link to the tutorial is below:\n",
    "\n",
    "https://www.statology.org/linear-discriminant-analysis/\n",
    "\n",
    "The tutorial uses LDA to classify iris species given the data in the iris dataset\n",
    "\n",
    "## Tabel of Contents\n",
    "\n",
    "1. Load Necessary Libraries\n",
    "\n",
    "2. Load data\n",
    "\n",
    "3. Fit model\n",
    "\n",
    "4. Make predictions\n",
    "\n",
    "5. Visualize results"
   ]
  },
  {
   "cell_type": "markdown",
   "id": "5dd1003a",
   "metadata": {},
   "source": [
    "## Load Necessary Libraries"
   ]
  },
  {
   "cell_type": "code",
   "execution_count": 1,
   "id": "adc4f9b1",
   "metadata": {},
   "outputs": [],
   "source": [
    "from sklearn.model_selection import train_test_split, RepeatedStratifiedKFold, cross_val_score\n",
    "from sklearn.discriminant_analysis import LinearDiscriminantAnalysis\n",
    "from sklearn import datasets\n",
    "import matplotlib.pyplot as plt\n",
    "import pandas as pd\n",
    "import numpy as np"
   ]
  },
  {
   "cell_type": "markdown",
   "id": "80a01413",
   "metadata": {},
   "source": [
    "## Load the data\n",
    "\n",
    "Load the iris data and store it in a Pandas dataframe. The feature names were changed to reduce the length of each title"
   ]
  },
  {
   "cell_type": "code",
   "execution_count": 3,
   "id": "80fb571f",
   "metadata": {},
   "outputs": [
    {
     "data": {
      "text/html": [
       "<div>\n",
       "<style scoped>\n",
       "    .dataframe tbody tr th:only-of-type {\n",
       "        vertical-align: middle;\n",
       "    }\n",
       "\n",
       "    .dataframe tbody tr th {\n",
       "        vertical-align: top;\n",
       "    }\n",
       "\n",
       "    .dataframe thead th {\n",
       "        text-align: right;\n",
       "    }\n",
       "</style>\n",
       "<table border=\"1\" class=\"dataframe\">\n",
       "  <thead>\n",
       "    <tr style=\"text-align: right;\">\n",
       "      <th></th>\n",
       "      <th>s_length</th>\n",
       "      <th>s_width</th>\n",
       "      <th>p_length</th>\n",
       "      <th>p_width</th>\n",
       "      <th>target</th>\n",
       "      <th>species</th>\n",
       "    </tr>\n",
       "  </thead>\n",
       "  <tbody>\n",
       "    <tr>\n",
       "      <th>0</th>\n",
       "      <td>5.1</td>\n",
       "      <td>3.5</td>\n",
       "      <td>1.4</td>\n",
       "      <td>0.2</td>\n",
       "      <td>0.0</td>\n",
       "      <td>setosa</td>\n",
       "    </tr>\n",
       "    <tr>\n",
       "      <th>1</th>\n",
       "      <td>4.9</td>\n",
       "      <td>3.0</td>\n",
       "      <td>1.4</td>\n",
       "      <td>0.2</td>\n",
       "      <td>0.0</td>\n",
       "      <td>setosa</td>\n",
       "    </tr>\n",
       "    <tr>\n",
       "      <th>2</th>\n",
       "      <td>4.7</td>\n",
       "      <td>3.2</td>\n",
       "      <td>1.3</td>\n",
       "      <td>0.2</td>\n",
       "      <td>0.0</td>\n",
       "      <td>setosa</td>\n",
       "    </tr>\n",
       "    <tr>\n",
       "      <th>3</th>\n",
       "      <td>4.6</td>\n",
       "      <td>3.1</td>\n",
       "      <td>1.5</td>\n",
       "      <td>0.2</td>\n",
       "      <td>0.0</td>\n",
       "      <td>setosa</td>\n",
       "    </tr>\n",
       "    <tr>\n",
       "      <th>4</th>\n",
       "      <td>5.0</td>\n",
       "      <td>3.6</td>\n",
       "      <td>1.4</td>\n",
       "      <td>0.2</td>\n",
       "      <td>0.0</td>\n",
       "      <td>setosa</td>\n",
       "    </tr>\n",
       "  </tbody>\n",
       "</table>\n",
       "</div>"
      ],
      "text/plain": [
       "   s_length  s_width  p_length  p_width  target species\n",
       "0       5.1      3.5       1.4      0.2     0.0  setosa\n",
       "1       4.9      3.0       1.4      0.2     0.0  setosa\n",
       "2       4.7      3.2       1.3      0.2     0.0  setosa\n",
       "3       4.6      3.1       1.5      0.2     0.0  setosa\n",
       "4       5.0      3.6       1.4      0.2     0.0  setosa"
      ]
     },
     "execution_count": 3,
     "metadata": {},
     "output_type": "execute_result"
    }
   ],
   "source": [
    "iris = datasets.load_iris()\n",
    "\n",
    "df = pd.DataFrame(data=np.c_[iris['data'], iris['target']],\n",
    "                 columns=iris['feature_names'] + ['target'])\n",
    "\n",
    "df['species'] = pd.Categorical.from_codes(iris.target, iris.target_names)\n",
    "\n",
    "df.columns = ['s_length', 's_width', 'p_length', 'p_width', 'target', 'species']\n",
    "\n",
    "df.head()"
   ]
  },
  {
   "cell_type": "markdown",
   "id": "14bd5d89",
   "metadata": {},
   "source": [
    "The dataset contains 150 observations"
   ]
  },
  {
   "cell_type": "code",
   "execution_count": 4,
   "id": "8e5a96b0",
   "metadata": {},
   "outputs": [
    {
     "data": {
      "text/plain": [
       "150"
      ]
     },
     "execution_count": 4,
     "metadata": {},
     "output_type": "execute_result"
    }
   ],
   "source": [
    "len(df.index)"
   ]
  },
  {
   "cell_type": "markdown",
   "id": "d7f5c125",
   "metadata": {},
   "source": [
    "## Fit the model\n",
    "\n",
    "Separate the data into features and target\n",
    "\n",
    "The features that will be used in this analysis are `['s_length', 's_width', 'p_length', 'p_width']`\n",
    "\n",
    "The value to predict is `'species'`"
   ]
  },
  {
   "cell_type": "code",
   "execution_count": 5,
   "id": "0ae0d68d",
   "metadata": {},
   "outputs": [],
   "source": [
    "X = df[['s_length', 's_width', 'p_length', 'p_width']]\n",
    "y = df['species']\n",
    "\n",
    "model = LinearDiscriminantAnalysis().fit(X, y)"
   ]
  },
  {
   "cell_type": "markdown",
   "id": "9bca4a64",
   "metadata": {},
   "source": [
    "## Make predictions\n",
    "\n",
    "Model accuracy will be evaluated using `RepeatedStratifiedKFold` with 10 splits and 3 repeats\n",
    "\n",
    "The mean accuracy is **98%**"
   ]
  },
  {
   "cell_type": "code",
   "execution_count": 6,
   "id": "3a32ee25",
   "metadata": {},
   "outputs": [
    {
     "name": "stdout",
     "output_type": "stream",
     "text": [
      "0.9800000000000001\n"
     ]
    }
   ],
   "source": [
    "cv = RepeatedStratifiedKFold(n_splits=10, n_repeats=3, random_state=1)\n",
    "\n",
    "scores = cross_val_score(model, X, y, scoring='accuracy', cv=cv, n_jobs=1)\n",
    "\n",
    "print(np.mean(scores))"
   ]
  },
  {
   "cell_type": "markdown",
   "id": "6914a3ab",
   "metadata": {},
   "source": [
    "### Predict a new flower\n",
    "\n",
    "The model predicts that this iris is of the setosa species"
   ]
  },
  {
   "cell_type": "code",
   "execution_count": 7,
   "id": "d3c6a6ba",
   "metadata": {},
   "outputs": [
    {
     "name": "stderr",
     "output_type": "stream",
     "text": [
      "C:\\Users\\taylo\\AppData\\Local\\Programs\\Python\\Python310\\lib\\site-packages\\sklearn\\base.py:439: UserWarning: X does not have valid feature names, but LinearDiscriminantAnalysis was fitted with feature names\n",
      "  warnings.warn(\n"
     ]
    },
    {
     "data": {
      "text/plain": [
       "array(['setosa'], dtype='<U10')"
      ]
     },
     "execution_count": 7,
     "metadata": {},
     "output_type": "execute_result"
    }
   ],
   "source": [
    "new = [5, 3, 1, 0.4]\n",
    "\n",
    "model.predict([new])"
   ]
  },
  {
   "cell_type": "markdown",
   "id": "bbecd40c",
   "metadata": {},
   "source": [
    "## Visualize Results"
   ]
  },
  {
   "cell_type": "code",
   "execution_count": 9,
   "id": "f2f40d0b",
   "metadata": {},
   "outputs": [
    {
     "data": {
      "image/png": "[encoded data removed]",
      "text/plain": [
       "<Figure size 640x480 with 1 Axes>"
      ]
     },
     "metadata": {},
     "output_type": "display_data"
    }
   ],
   "source": [
    "#define data to plot\n",
    "X = iris.data\n",
    "y = iris.target\n",
    "\n",
    "model = LinearDiscriminantAnalysis()\n",
    "data_plot = model.fit(X,y).transform(X)\n",
    "target_names = iris.target_names\n",
    "\n",
    "\n",
    "#create plot\n",
    "plt.figure()\n",
    "colors = ['red','green','blue']\n",
    "lw=2\n",
    "\n",
    "for color, i, target_name in zip(colors, [0,1,2], target_names):\n",
    "    plt.scatter(data_plot[y==i, 0], data_plot[y==i, 1], alpha=0.8, color=color, label=target_name)\n",
    "    \n",
    "    \n",
    "#add legend\n",
    "plt.legend(loc='best', shadow=False, scatterpoints=1)\n",
    "\n",
    "\n",
    "#display plot\n",
    "plt.show()"
   ]
  }
 ],
 "metadata": {
  "kernelspec": {
   "display_name": "Python 3 (ipykernel)",
   "language": "python",
   "name": "python3"
  },
  "language_info": {
   "codemirror_mode": {
    "name": "ipython",
    "version": 3
   },
   "file_extension": ".py",
   "mimetype": "text/x-python",
   "name": "python",
   "nbconvert_exporter": "python",
   "pygments_lexer": "ipython3",
   "version": "3.10.0"
  }
 },
 "nbformat": 4,
 "nbformat_minor": 5
}
