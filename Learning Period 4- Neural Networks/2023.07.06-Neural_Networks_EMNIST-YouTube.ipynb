{
 "cells": [
  {
   "cell_type": "markdown",
   "id": "bbd9272c",
   "metadata": {},
   "source": [
    "# Neural Networks with EMNIST\n",
    "\n",
    "Get familiar with using creating a neural network and adjusting parameters. \n",
    "This notebook uses the EMNIST dataset containing thousands of letters to build a machine learning model.\n",
    "\n",
    "This code is from a YouTube Tutorial by CrashCourse in their AI Series. \n",
    "The episode that this code is from is \"How to make an AI read your handwriting (LAB) \n",
    ": Crash Course Ai #5\" \n",
    "\n",
    "The video is linked below\n",
    "\n",
    "https://www.youtube.com/watch?v=6nGCGYWMObE"
   ]
  },
  {
   "cell_type": "markdown",
   "id": "fe1391a6",
   "metadata": {},
   "source": [
    "## Import EMNIST library from git\n",
    "\n",
    "Access the EMNIST dataset from GitHub and import it."
   ]
  },
  {
   "cell_type": "code",
   "execution_count": 1,
   "id": "951ed831",
   "metadata": {},
   "outputs": [
    {
     "name": "stderr",
     "output_type": "stream",
     "text": [
      "Cloning into 'python-mnist'...\n",
      "'.' is not recognized as an internal or external command,\n",
      "operable program or batch file.\n"
     ]
    },
    {
     "name": "stdout",
     "output_type": "stream",
     "text": [
      "Collecting emnist\n",
      "  Downloading emnist-0.0-py3-none-any.whl (7.3 kB)\n",
      "Requirement already satisfied: numpy in c:\\users\\taylo\\appdata\\local\\programs\\python\\python310\\lib\\site-packages (from emnist) (1.24.3)\n",
      "Requirement already satisfied: requests in c:\\users\\taylo\\appdata\\local\\programs\\python\\python310\\lib\\site-packages (from emnist) (2.31.0)\n",
      "Collecting tqdm (from emnist)\n",
      "  Downloading tqdm-4.65.0-py3-none-any.whl (77 kB)\n",
      "                                              0.0/77.1 kB ? eta -:--:--\n",
      "     -------------------------------------    71.7/77.1 kB 1.3 MB/s eta 0:00:01\n",
      "     ---------------------------------------- 77.1/77.1 kB 1.1 MB/s eta 0:00:00\n",
      "Requirement already satisfied: charset-normalizer<4,>=2 in c:\\users\\taylo\\appdata\\local\\programs\\python\\python310\\lib\\site-packages (from requests->emnist) (3.1.0)\n",
      "Requirement already satisfied: idna<4,>=2.5 in c:\\users\\taylo\\appdata\\local\\programs\\python\\python310\\lib\\site-packages (from requests->emnist) (3.4)\n",
      "Requirement already satisfied: urllib3<3,>=1.21.1 in c:\\users\\taylo\\appdata\\local\\programs\\python\\python310\\lib\\site-packages (from requests->emnist) (2.0.2)\n",
      "Requirement already satisfied: certifi>=2017.4.17 in c:\\users\\taylo\\appdata\\local\\programs\\python\\python310\\lib\\site-packages (from requests->emnist) (2023.5.7)\n",
      "Requirement already satisfied: colorama in c:\\users\\taylo\\appdata\\local\\programs\\python\\python310\\lib\\site-packages (from tqdm->emnist) (0.4.6)\n",
      "Installing collected packages: tqdm, emnist\n",
      "Successfully installed emnist-0.0 tqdm-4.65.0\n",
      "Imported the EMNIST libraries we need!\n"
     ]
    }
   ],
   "source": [
    "!git clone https://github.com/sorki/python-mnist\n",
    "!./python-mnist/bin/mnist_get_data.sh\n",
    "!pip3 install emnist\n",
    "from emnist import extract_training_samples\n",
    "\n",
    "print(\"Imported the EMNIST libraries we need!\")"
   ]
  },
  {
   "cell_type": "markdown",
   "id": "714fd276",
   "metadata": {},
   "source": [
    "## Train and Test\n",
    "\n",
    "Separate the data into training and testing data. \n",
    "\n",
    "Training data contains 60,000 data points and another 10,000 points to test with. \n",
    "The features are the pixel values and the targets is the letter the pixels represent."
   ]
  },
  {
   "cell_type": "code",
   "execution_count": 2,
   "id": "8805cb76",
   "metadata": {},
   "outputs": [
    {
     "name": "stderr",
     "output_type": "stream",
     "text": [
      "Downloading emnist.zip: 536MB [00:16, 33.4MB/s]                                                                        \n"
     ]
    },
    {
     "name": "stdout",
     "output_type": "stream",
     "text": [
      "Extracted our samples and divided our training and testing data sets\n"
     ]
    }
   ],
   "source": [
    "# Grab the data from the OpenML website\n",
    "# X will be our images and y will be the labels\n",
    "X, y = extract_training_samples('letters')\n",
    "\n",
    "# Make sure that every pixel in all of the images is a value between 0 and 1\n",
    "X = X / 255.\n",
    "\n",
    "# Use the first 60000 instances as training and the next 10000 as testing\n",
    "X_train, X_test = X[:60000], X[60000:70000]\n",
    "y_train, y_test = y[:60000], y[60000:70000]\n",
    "\n",
    "# There is one other thing we need to do, we need to\n",
    "# record the number of samples in each dataset and the number of pixels in each image\n",
    "X_train = X_train.reshape(60000,784)\n",
    "X_test = X_test.reshape(10000,784)\n",
    "\n",
    "print(\"Extracted our samples and divided our training and testing data sets\")"
   ]
  },
  {
   "cell_type": "markdown",
   "id": "1577ae20",
   "metadata": {},
   "source": [
    "### View sample image\n",
    "\n",
    "Open a random image from the training set and view it. \n",
    "Help get a better understanding of what the images look like."
   ]
  },
  {
   "cell_type": "code",
   "execution_count": 3,
   "id": "875c948c",
   "metadata": {},
   "outputs": [
    {
     "name": "stdout",
     "output_type": "stream",
     "text": [
      "Image Label: m\n"
     ]
    },
    {
     "data": {
      "text/plain": [
       "<matplotlib.image.AxesImage at 0x1fcc67f84f0>"
      ]
     },
     "execution_count": 3,
     "metadata": {},
     "output_type": "execute_result"
    },
    {
     "data": {
      "image/png": "[encoded data removed]",
      "text/plain": [
       "<Figure size 640x480 with 1 Axes>"
      ]
     },
     "metadata": {},
     "output_type": "display_data"
    }
   ],
   "source": [
    "import matplotlib.pyplot as plt\n",
    "\n",
    "img_index = 14000 # <<<<<  You can update this value to look at other images\n",
    "img = X_train[img_index]\n",
    "print(\"Image Label: \" + str(chr(y_train[img_index]+96)))\n",
    "plt.imshow(img.reshape((28,28)))"
   ]
  },
  {
   "cell_type": "markdown",
   "id": "af25873f",
   "metadata": {},
   "source": [
    "## Modeling\n",
    "\n",
    "Create and evaluate machine learning models."
   ]
  },
  {
   "cell_type": "markdown",
   "id": "4be7579c",
   "metadata": {},
   "source": [
    "### 1-Layer, 50-neuron, 50-epoch\n",
    "\n",
    "A 1-layer neural network with 50 neurons and 50 epochs"
   ]
  },
  {
   "cell_type": "code",
   "execution_count": 4,
   "id": "bdd1ef67",
   "metadata": {},
   "outputs": [
    {
     "name": "stdout",
     "output_type": "stream",
     "text": [
      "Created our first MLP network\n"
     ]
    }
   ],
   "source": [
    "# These two lines import the ML libraries we need\n",
    "from sklearn.datasets import fetch_openml\n",
    "from sklearn.neural_network import MLPClassifier\n",
    "\n",
    "# This creates our first MLP with 1 hidden layer with 50 neurons and sets it to run through the data 20 times\n",
    "mlp1 = MLPClassifier(hidden_layer_sizes=(50,), max_iter=20, alpha=1e-4,\n",
    "                    solver='sgd', verbose=10, tol=1e-4, random_state=1,\n",
    "                    learning_rate_init=.1)\n",
    "\n",
    "print(\"Created our first MLP network\")"
   ]
  },
  {
   "cell_type": "markdown",
   "id": "b7fbc950",
   "metadata": {},
   "source": [
    "The model's accuracy is 0.84 on the testing set."
   ]
  },
  {
   "cell_type": "code",
   "execution_count": 5,
   "id": "6d719fe7",
   "metadata": {
    "scrolled": true
   },
   "outputs": [
    {
     "name": "stdout",
     "output_type": "stream",
     "text": [
      "Iteration 1, loss = 1.06351395\n",
      "Iteration 2, loss = 0.64844650\n",
      "Iteration 3, loss = 0.56103245\n",
      "Iteration 4, loss = 0.51987725\n",
      "Iteration 5, loss = 0.49182099\n",
      "Iteration 6, loss = 0.47301057\n",
      "Iteration 7, loss = 0.45839220\n",
      "Iteration 8, loss = 0.44603836\n",
      "Iteration 9, loss = 0.43479721\n",
      "Iteration 10, loss = 0.42809575\n",
      "Iteration 11, loss = 0.41639233\n",
      "Iteration 12, loss = 0.40782908\n",
      "Iteration 13, loss = 0.40548360\n",
      "Iteration 14, loss = 0.39965983\n",
      "Iteration 15, loss = 0.39296832\n",
      "Iteration 16, loss = 0.38883219\n",
      "Iteration 17, loss = 0.38393955\n",
      "Iteration 18, loss = 0.37948343\n",
      "Iteration 19, loss = 0.37307616\n",
      "Iteration 20, loss = 0.37166732\n"
     ]
    },
    {
     "name": "stderr",
     "output_type": "stream",
     "text": [
      "C:\\Users\\taylo\\AppData\\Local\\Programs\\Python\\Python310\\lib\\site-packages\\sklearn\\neural_network\\_multilayer_perceptron.py:686: ConvergenceWarning: Stochastic Optimizer: Maximum iterations (20) reached and the optimization hasn't converged yet.\n",
      "  warnings.warn(\n"
     ]
    },
    {
     "name": "stdout",
     "output_type": "stream",
     "text": [
      "Training set score: 0.886500\n",
      "Test set score: 0.840800\n"
     ]
    }
   ],
   "source": [
    "mlp1.fit(X_train, y_train)\n",
    "print(\"Training set score: %f\" % mlp1.score(X_train, y_train))\n",
    "print(\"Test set score: %f\" % mlp1.score(X_test, y_test))"
   ]
  },
  {
   "cell_type": "markdown",
   "id": "680f0bd3",
   "metadata": {},
   "source": [
    "Create a confusion matrix to inspect the letters with the biggest difference between predicted and true values."
   ]
  },
  {
   "cell_type": "code",
   "execution_count": null,
   "id": "5ea301d1",
   "metadata": {},
   "outputs": [],
   "source": [
    "# First let's initialize a list with all the predicted values from the training set\n",
    "y_pred = mlp1.predict(X_test)\n",
    "\n",
    "# Now let's visualize the errors between the predictions and the actual labels using a confusion matrix\n",
    "from sklearn.metrics import confusion_matrix\n",
    "cm = confusion_matrix(y_test, y_pred)\n",
    "plt.matshow(cm)"
   ]
  },
  {
   "cell_type": "markdown",
   "id": "00840aaf",
   "metadata": {},
   "source": [
    "View the cases where the model incorrectly identified 'l's and 'i's."
   ]
  },
  {
   "cell_type": "code",
   "execution_count": 7,
   "id": "47551fd3",
   "metadata": {},
   "outputs": [
    {
     "name": "stdout",
     "output_type": "stream",
     "text": [
      "There were 84 times that the letter i was predicted to be the letter l.\n"
     ]
    },
    {
     "data": {
      "image/png": "[encoded data removed]",
      "text/plain": [
       "<Figure size 640x480 with 1 Axes>"
      ]
     },
     "metadata": {},
     "output_type": "display_data"
    }
   ],
   "source": [
    "# You can change this to any letters that you think the neural network may have confused...\n",
    "predicted_letter = 'l'\n",
    "actual_letter = 'i'\n",
    "\n",
    "\n",
    "# This code counts all mistakes for the letters above\n",
    "mistake_list = []\n",
    "for i in range(len(y_test)):\n",
    "  if (y_test[i] == (ord(actual_letter) - 96) and y_pred[i] == (ord(predicted_letter) - 96)):\n",
    "    mistake_list.append(i)\n",
    "print(\"There were \" + str(len(mistake_list)) + \" times that the letter \" + actual_letter + \" was predicted to be the letter \" + predicted_letter + \".\")\n",
    "\n",
    "# Once we know how many mistakes were made, we can change this to see an image of a particular one\n",
    "mistake_to_show = 4 # <<< e.g., change this to 3 if you want to see the 4th mistake\n",
    "\n",
    "# This code checks that the number mistake you asked for can be shown and if so, displays an image of it\n",
    "if (len(mistake_list)> mistake_to_show):\n",
    "  img = X_test[mistake_list[mistake_to_show]]\n",
    "  plt.imshow(img.reshape((28,28)))\n",
    "else:\n",
    "  print(\"Couldn't show mistake number \" + str(mistake_to_show + 1) + \" because there were only \" + str(len(mistake_list)) + \" mistakes to show!\")"
   ]
  },
  {
   "cell_type": "markdown",
   "id": "af8cc96d",
   "metadata": {},
   "source": [
    "### 5-Layer, 100-neuron, 50-epoch\n",
    "\n",
    "A 5-layer neural network with 100 neurons and 50 epochs"
   ]
  },
  {
   "cell_type": "code",
   "execution_count": 8,
   "id": "d564ad01",
   "metadata": {
    "scrolled": true
   },
   "outputs": [
    {
     "name": "stdout",
     "output_type": "stream",
     "text": [
      "Iteration 1, loss = 1.15599672\n",
      "Iteration 2, loss = 0.54834774\n",
      "Iteration 3, loss = 0.44784035\n",
      "Iteration 4, loss = 0.39865207\n",
      "Iteration 5, loss = 0.36308811\n",
      "Iteration 6, loss = 0.33567397\n",
      "Iteration 7, loss = 0.31904877\n",
      "Iteration 8, loss = 0.29485588\n",
      "Iteration 9, loss = 0.27846574\n",
      "Iteration 10, loss = 0.26938228\n",
      "Iteration 11, loss = 0.25802023\n",
      "Iteration 12, loss = 0.25788282\n",
      "Iteration 13, loss = 0.24842470\n",
      "Iteration 14, loss = 0.23652186\n",
      "Iteration 15, loss = 0.22631113\n",
      "Iteration 16, loss = 0.22402455\n",
      "Iteration 17, loss = 0.21873561\n",
      "Iteration 18, loss = 0.21993938\n",
      "Iteration 19, loss = 0.21469569\n",
      "Iteration 20, loss = 0.21052404\n",
      "Iteration 21, loss = 0.20297180\n",
      "Iteration 22, loss = 0.20881634\n",
      "Iteration 23, loss = 0.20199416\n",
      "Iteration 24, loss = 0.20136205\n",
      "Iteration 25, loss = 0.19870804\n",
      "Iteration 26, loss = 0.19468852\n",
      "Iteration 27, loss = 0.19161935\n",
      "Iteration 28, loss = 0.19082842\n",
      "Iteration 29, loss = 0.18859101\n",
      "Iteration 30, loss = 0.18797075\n",
      "Iteration 31, loss = 0.19353324\n",
      "Iteration 32, loss = 0.19176488\n",
      "Iteration 33, loss = 0.19011325\n",
      "Iteration 34, loss = 0.18515083\n",
      "Iteration 35, loss = 0.18550053\n",
      "Iteration 36, loss = 0.18208673\n",
      "Iteration 37, loss = 0.17424194\n",
      "Iteration 38, loss = 0.17742465\n",
      "Iteration 39, loss = 0.17507229\n",
      "Iteration 40, loss = 0.18140040\n",
      "Iteration 41, loss = 0.17806334\n",
      "Iteration 42, loss = 0.17466005\n",
      "Iteration 43, loss = 0.17764971\n",
      "Iteration 44, loss = 0.18040760\n",
      "Iteration 45, loss = 0.17872487\n",
      "Iteration 46, loss = 0.17533096\n",
      "Iteration 47, loss = 0.16693954\n",
      "Iteration 48, loss = 0.17500316\n",
      "Iteration 49, loss = 0.17623631\n",
      "Iteration 50, loss = 0.17240996\n"
     ]
    },
    {
     "name": "stderr",
     "output_type": "stream",
     "text": [
      "C:\\Users\\taylo\\AppData\\Local\\Programs\\Python\\Python310\\lib\\site-packages\\sklearn\\neural_network\\_multilayer_perceptron.py:686: ConvergenceWarning: Stochastic Optimizer: Maximum iterations (50) reached and the optimization hasn't converged yet.\n",
      "  warnings.warn(\n"
     ]
    },
    {
     "name": "stdout",
     "output_type": "stream",
     "text": [
      "Training set score: 0.949567\n",
      "Test set score: 0.889100\n"
     ]
    }
   ],
   "source": [
    "# Change some of the values in the below statement and re-run to see how they \n",
    "# affect performance!\n",
    "mlp2 = MLPClassifier(hidden_layer_sizes=(100,100,100,100,100,), max_iter=50, alpha=1e-4,\n",
    "                    solver='sgd', verbose=10, tol=1e-4, random_state=1,\n",
    "                    learning_rate_init=.1)\n",
    "mlp2.fit(X_train, y_train)\n",
    "print(\"Training set score: %f\" % mlp2.score(X_train, y_train))\n",
    "print(\"Test set score: %f\" % mlp2.score(X_test, y_test))"
   ]
  },
  {
   "cell_type": "markdown",
   "id": "0201e647",
   "metadata": {},
   "source": [
    "### 4-Layer, 100-neuron, 100-epoch\n",
    "\n",
    "A 4-layer neural network with 100 neurons and 100 epochs"
   ]
  },
  {
   "cell_type": "code",
   "execution_count": 9,
   "id": "4d3bce74",
   "metadata": {
    "scrolled": true
   },
   "outputs": [
    {
     "name": "stdout",
     "output_type": "stream",
     "text": [
      "Iteration 1, loss = 1.01379081\n",
      "Iteration 2, loss = 0.50392966\n",
      "Iteration 3, loss = 0.41916971\n",
      "Iteration 4, loss = 0.37202569\n",
      "Iteration 5, loss = 0.34055321\n",
      "Iteration 6, loss = 0.31400146\n",
      "Iteration 7, loss = 0.29491436\n",
      "Iteration 8, loss = 0.28594488\n",
      "Iteration 9, loss = 0.27441599\n",
      "Iteration 10, loss = 0.25836723\n",
      "Iteration 11, loss = 0.25526800\n",
      "Iteration 12, loss = 0.23921960\n",
      "Iteration 13, loss = 0.23775247\n",
      "Iteration 14, loss = 0.23193747\n",
      "Iteration 15, loss = 0.22274752\n",
      "Iteration 16, loss = 0.22223769\n",
      "Iteration 17, loss = 0.21942345\n",
      "Iteration 18, loss = 0.21173550\n",
      "Iteration 19, loss = 0.20685005\n",
      "Iteration 20, loss = 0.20574863\n",
      "Iteration 21, loss = 0.20002214\n",
      "Iteration 22, loss = 0.19976729\n",
      "Iteration 23, loss = 0.20194026\n",
      "Iteration 24, loss = 0.20843457\n",
      "Iteration 25, loss = 0.19250249\n",
      "Iteration 26, loss = 0.18499905\n",
      "Iteration 27, loss = 0.19201265\n",
      "Iteration 28, loss = 0.19276332\n",
      "Iteration 29, loss = 0.18838018\n",
      "Iteration 30, loss = 0.19103984\n",
      "Iteration 31, loss = 0.19097723\n",
      "Iteration 32, loss = 0.19098188\n",
      "Iteration 33, loss = 0.17579798\n",
      "Iteration 34, loss = 0.19177749\n",
      "Iteration 35, loss = 0.18558387\n",
      "Iteration 36, loss = 0.19258984\n",
      "Iteration 37, loss = 0.18173720\n",
      "Iteration 38, loss = 0.18148747\n",
      "Iteration 39, loss = 0.17486063\n",
      "Iteration 40, loss = 0.18227155\n",
      "Iteration 41, loss = 0.18639952\n",
      "Iteration 42, loss = 0.17711031\n",
      "Iteration 43, loss = 0.18194926\n",
      "Iteration 44, loss = 0.18717996\n",
      "Iteration 45, loss = 0.18691587\n",
      "Iteration 46, loss = 0.19462367\n",
      "Iteration 47, loss = 0.19771807\n",
      "Iteration 48, loss = 0.17625629\n",
      "Iteration 49, loss = 0.18136759\n",
      "Iteration 50, loss = 0.17235522\n",
      "Iteration 51, loss = 0.18891137\n",
      "Iteration 52, loss = 0.18420378\n",
      "Iteration 53, loss = 0.17998401\n",
      "Iteration 54, loss = 0.16743854\n",
      "Iteration 55, loss = 0.16908273\n",
      "Iteration 56, loss = 0.17800033\n",
      "Iteration 57, loss = 0.18895260\n",
      "Iteration 58, loss = 0.18933830\n",
      "Iteration 59, loss = 0.19030027\n",
      "Iteration 60, loss = 0.18910405\n",
      "Iteration 61, loss = 0.17686387\n",
      "Iteration 62, loss = 0.18031418\n",
      "Iteration 63, loss = 0.18298953\n",
      "Iteration 64, loss = 0.18054800\n",
      "Iteration 65, loss = 0.17355116\n",
      "Training loss did not improve more than tol=0.000100 for 10 consecutive epochs. Stopping.\n",
      "Training set score: 0.947733\n",
      "Test set score: 0.882800\n"
     ]
    }
   ],
   "source": [
    "# Change some of the values in the below statement and re-run to see how they \n",
    "# affect performance!\n",
    "mlp2 = MLPClassifier(hidden_layer_sizes=(100,100,100,100,), max_iter=100, alpha=1e-4,\n",
    "                    solver='sgd', verbose=10, tol=1e-4, random_state=1,\n",
    "                    learning_rate_init=.1)\n",
    "mlp2.fit(X_train, y_train)\n",
    "print(\"Training set score: %f\" % mlp2.score(X_train, y_train))\n",
    "print(\"Test set score: %f\" % mlp2.score(X_test, y_test))"
   ]
  },
  {
   "cell_type": "markdown",
   "id": "d201a244",
   "metadata": {},
   "source": [
    "### 6-Layer, 100-neuron, 50-epoch\n",
    "\n",
    "A 6-layer neural network with 100 neurons and 50 epochs"
   ]
  },
  {
   "cell_type": "code",
   "execution_count": 10,
   "id": "8959c5c0",
   "metadata": {
    "scrolled": true
   },
   "outputs": [
    {
     "name": "stdout",
     "output_type": "stream",
     "text": [
      "Iteration 1, loss = 1.24960417\n",
      "Iteration 2, loss = 0.57582422\n",
      "Iteration 3, loss = 0.47712460\n",
      "Iteration 4, loss = 0.42119700\n",
      "Iteration 5, loss = 0.37742533\n",
      "Iteration 6, loss = 0.35172146\n",
      "Iteration 7, loss = 0.32579139\n",
      "Iteration 8, loss = 0.31228887\n",
      "Iteration 9, loss = 0.29365994\n",
      "Iteration 10, loss = 0.27529740\n",
      "Iteration 11, loss = 0.26802392\n",
      "Iteration 12, loss = 0.25236468\n",
      "Iteration 13, loss = 0.24922883\n",
      "Iteration 14, loss = 0.24197889\n",
      "Iteration 15, loss = 0.23588119\n",
      "Iteration 16, loss = 0.23155045\n",
      "Iteration 17, loss = 0.22522903\n",
      "Iteration 18, loss = 0.22597884\n",
      "Iteration 19, loss = 0.22145803\n",
      "Iteration 20, loss = 0.21808489\n",
      "Iteration 21, loss = 0.21427525\n",
      "Iteration 22, loss = 0.21071625\n",
      "Iteration 23, loss = 0.20072292\n",
      "Iteration 24, loss = 0.19746474\n",
      "Iteration 25, loss = 0.20185190\n",
      "Iteration 26, loss = 0.19215147\n",
      "Iteration 27, loss = 0.20082646\n",
      "Iteration 28, loss = 0.19751645\n",
      "Iteration 29, loss = 0.19395264\n",
      "Iteration 30, loss = 0.18737214\n",
      "Iteration 31, loss = 0.18573401\n",
      "Iteration 32, loss = 0.18003881\n",
      "Iteration 33, loss = 0.18615316\n",
      "Iteration 34, loss = 0.18445236\n",
      "Iteration 35, loss = 0.18164565\n",
      "Iteration 36, loss = 0.18307255\n",
      "Iteration 37, loss = 0.18665968\n",
      "Iteration 38, loss = 0.18472613\n",
      "Iteration 39, loss = 0.18549334\n",
      "Iteration 40, loss = 0.17997282\n",
      "Iteration 41, loss = 0.18307871\n",
      "Iteration 42, loss = 0.18297673\n",
      "Iteration 43, loss = 0.17791744\n",
      "Iteration 44, loss = 0.17804395\n",
      "Iteration 45, loss = 0.17035899\n",
      "Iteration 46, loss = 0.17000799\n",
      "Iteration 47, loss = 0.18090037\n",
      "Iteration 48, loss = 0.18904882\n",
      "Iteration 49, loss = 0.18302817\n",
      "Iteration 50, loss = 0.18364420\n"
     ]
    },
    {
     "name": "stderr",
     "output_type": "stream",
     "text": [
      "C:\\Users\\taylo\\AppData\\Local\\Programs\\Python\\Python310\\lib\\site-packages\\sklearn\\neural_network\\_multilayer_perceptron.py:686: ConvergenceWarning: Stochastic Optimizer: Maximum iterations (50) reached and the optimization hasn't converged yet.\n",
      "  warnings.warn(\n"
     ]
    },
    {
     "name": "stdout",
     "output_type": "stream",
     "text": [
      "Training set score: 0.944833\n",
      "Test set score: 0.885300\n"
     ]
    }
   ],
   "source": [
    "mlp2 = MLPClassifier(hidden_layer_sizes=(100,100,100,100,100,100), max_iter=50, alpha=1e-4,\n",
    "                    solver='sgd', verbose=10, tol=1e-4, random_state=1,\n",
    "                    learning_rate_init=.1)\n",
    "mlp2.fit(X_train, y_train)\n",
    "print(\"Training set score: %f\" % mlp2.score(X_train, y_train))\n",
    "print(\"Test set score: %f\" % mlp2.score(X_test, y_test))"
   ]
  },
  {
   "cell_type": "markdown",
   "id": "202ebb86",
   "metadata": {},
   "source": [
    "### 3-Layer, 100-neuron, 50-epoch\n",
    "\n",
    "A 3-layer neural network with 100 neurons and 50 epochs"
   ]
  },
  {
   "cell_type": "code",
   "execution_count": 11,
   "id": "f5cf6acc",
   "metadata": {
    "scrolled": true
   },
   "outputs": [
    {
     "name": "stdout",
     "output_type": "stream",
     "text": [
      "Iteration 1, loss = 0.94567123\n",
      "Iteration 2, loss = 0.47719782\n",
      "Iteration 3, loss = 0.39525794\n",
      "Iteration 4, loss = 0.35000380\n",
      "Iteration 5, loss = 0.32218087\n",
      "Iteration 6, loss = 0.29480242\n",
      "Iteration 7, loss = 0.27962279\n",
      "Iteration 8, loss = 0.26156196\n",
      "Iteration 9, loss = 0.24643216\n",
      "Iteration 10, loss = 0.23951834\n",
      "Iteration 11, loss = 0.23188084\n",
      "Iteration 12, loss = 0.22801692\n",
      "Iteration 13, loss = 0.21724162\n",
      "Iteration 14, loss = 0.21456462\n",
      "Iteration 15, loss = 0.20922584\n",
      "Iteration 16, loss = 0.20420448\n",
      "Iteration 17, loss = 0.20105150\n",
      "Iteration 18, loss = 0.19873714\n",
      "Iteration 19, loss = 0.19204121\n",
      "Iteration 20, loss = 0.19160648\n",
      "Iteration 21, loss = 0.20064392\n",
      "Iteration 22, loss = 0.19757599\n",
      "Iteration 23, loss = 0.18845715\n",
      "Iteration 24, loss = 0.18503059\n",
      "Iteration 25, loss = 0.17863643\n",
      "Iteration 26, loss = 0.18348528\n",
      "Iteration 27, loss = 0.18410600\n",
      "Iteration 28, loss = 0.18448267\n",
      "Iteration 29, loss = 0.18810097\n",
      "Iteration 30, loss = 0.18511120\n",
      "Iteration 31, loss = 0.18215740\n",
      "Iteration 32, loss = 0.18417196\n",
      "Iteration 33, loss = 0.18261394\n",
      "Iteration 34, loss = 0.17538901\n",
      "Iteration 35, loss = 0.18056121\n",
      "Iteration 36, loss = 0.18102824\n",
      "Iteration 37, loss = 0.17494836\n",
      "Iteration 38, loss = 0.19016246\n",
      "Iteration 39, loss = 0.19219674\n",
      "Iteration 40, loss = 0.19221844\n",
      "Iteration 41, loss = 0.17128911\n",
      "Iteration 42, loss = 0.17993551\n",
      "Iteration 43, loss = 0.18926259\n",
      "Iteration 44, loss = 0.18705908\n",
      "Iteration 45, loss = 0.17629385\n",
      "Iteration 46, loss = 0.17829538\n",
      "Iteration 47, loss = 0.16909959\n",
      "Iteration 48, loss = 0.17736057\n",
      "Iteration 49, loss = 0.19200277\n",
      "Iteration 50, loss = 0.17393551\n"
     ]
    },
    {
     "name": "stderr",
     "output_type": "stream",
     "text": [
      "C:\\Users\\taylo\\AppData\\Local\\Programs\\Python\\Python310\\lib\\site-packages\\sklearn\\neural_network\\_multilayer_perceptron.py:686: ConvergenceWarning: Stochastic Optimizer: Maximum iterations (50) reached and the optimization hasn't converged yet.\n",
      "  warnings.warn(\n"
     ]
    },
    {
     "name": "stdout",
     "output_type": "stream",
     "text": [
      "Training set score: 0.941133\n",
      "Test set score: 0.878200\n"
     ]
    }
   ],
   "source": [
    "mlp2 = MLPClassifier(hidden_layer_sizes=(100,100,100,), max_iter=50, alpha=1e-4,\n",
    "                    solver='sgd', verbose=10, tol=1e-4, random_state=1,\n",
    "                    learning_rate_init=.1)\n",
    "mlp2.fit(X_train, y_train)\n",
    "print(\"Training set score: %f\" % mlp2.score(X_train, y_train))\n",
    "print(\"Test set score: %f\" % mlp2.score(X_test, y_test))"
   ]
  },
  {
   "cell_type": "markdown",
   "id": "61b234e8",
   "metadata": {},
   "source": [
    "### 2-Layer, 100-neuron, 50-epoch\n",
    "\n",
    "A 2-layer neural network with 100 neurons and 50 epochs"
   ]
  },
  {
   "cell_type": "code",
   "execution_count": 12,
   "id": "1eb55c3a",
   "metadata": {
    "scrolled": true
   },
   "outputs": [
    {
     "name": "stdout",
     "output_type": "stream",
     "text": [
      "Iteration 1, loss = 0.92341903\n",
      "Iteration 2, loss = 0.47113924\n",
      "Iteration 3, loss = 0.38867102\n",
      "Iteration 4, loss = 0.34033358\n",
      "Iteration 5, loss = 0.31797103\n",
      "Iteration 6, loss = 0.29433554\n",
      "Iteration 7, loss = 0.27297637\n",
      "Iteration 8, loss = 0.25533497\n",
      "Iteration 9, loss = 0.24492291\n",
      "Iteration 10, loss = 0.23219130\n",
      "Iteration 11, loss = 0.22821158\n",
      "Iteration 12, loss = 0.21875247\n",
      "Iteration 13, loss = 0.20788412\n",
      "Iteration 14, loss = 0.19990241\n",
      "Iteration 15, loss = 0.20067924\n",
      "Iteration 16, loss = 0.19264319\n",
      "Iteration 17, loss = 0.18396688\n",
      "Iteration 18, loss = 0.18335998\n",
      "Iteration 19, loss = 0.18505259\n",
      "Iteration 20, loss = 0.17711433\n",
      "Iteration 21, loss = 0.17423039\n",
      "Iteration 22, loss = 0.17349865\n",
      "Iteration 23, loss = 0.17724000\n",
      "Iteration 24, loss = 0.17587735\n",
      "Iteration 25, loss = 0.16150978\n",
      "Iteration 26, loss = 0.15711366\n",
      "Iteration 27, loss = 0.16454959\n",
      "Iteration 28, loss = 0.15273586\n",
      "Iteration 29, loss = 0.16872881\n",
      "Iteration 30, loss = 0.16765205\n",
      "Iteration 31, loss = 0.16283669\n",
      "Iteration 32, loss = 0.15658654\n",
      "Iteration 33, loss = 0.15662268\n",
      "Iteration 34, loss = 0.17038016\n",
      "Iteration 35, loss = 0.15751889\n",
      "Iteration 36, loss = 0.15406750\n",
      "Iteration 37, loss = 0.17095200\n",
      "Iteration 38, loss = 0.16530475\n",
      "Iteration 39, loss = 0.16108390\n",
      "Training loss did not improve more than tol=0.000100 for 10 consecutive epochs. Stopping.\n",
      "Training set score: 0.948417\n",
      "Test set score: 0.873600\n"
     ]
    }
   ],
   "source": [
    "mlp2 = MLPClassifier(hidden_layer_sizes=(100,100,), max_iter=50, alpha=1e-4,\n",
    "                    solver='sgd', verbose=10, tol=1e-4, random_state=1,\n",
    "                    learning_rate_init=.1)\n",
    "mlp2.fit(X_train, y_train)\n",
    "print(\"Training set score: %f\" % mlp2.score(X_train, y_train))\n",
    "print(\"Test set score: %f\" % mlp2.score(X_test, y_test))"
   ]
  },
  {
   "cell_type": "markdown",
   "id": "7d7d233e",
   "metadata": {},
   "source": [
    "### 2-Layer, 100-neuron, 100-epoch\n",
    "\n",
    "A 2-layer neural network with 100 neurons and 100 epochs"
   ]
  },
  {
   "cell_type": "code",
   "execution_count": 13,
   "id": "238c773b",
   "metadata": {
    "scrolled": true
   },
   "outputs": [
    {
     "name": "stdout",
     "output_type": "stream",
     "text": [
      "Iteration 1, loss = 0.92341903\n",
      "Iteration 2, loss = 0.47113924\n",
      "Iteration 3, loss = 0.38867102\n",
      "Iteration 4, loss = 0.34033358\n",
      "Iteration 5, loss = 0.31797103\n",
      "Iteration 6, loss = 0.29433554\n",
      "Iteration 7, loss = 0.27297637\n",
      "Iteration 8, loss = 0.25533497\n",
      "Iteration 9, loss = 0.24492291\n",
      "Iteration 10, loss = 0.23219130\n",
      "Iteration 11, loss = 0.22821158\n",
      "Iteration 12, loss = 0.21875247\n",
      "Iteration 13, loss = 0.20788412\n",
      "Iteration 14, loss = 0.19990241\n",
      "Iteration 15, loss = 0.20067924\n",
      "Iteration 16, loss = 0.19264319\n",
      "Iteration 17, loss = 0.18396688\n",
      "Iteration 18, loss = 0.18335998\n",
      "Iteration 19, loss = 0.18505259\n",
      "Iteration 20, loss = 0.17711433\n",
      "Iteration 21, loss = 0.17423039\n",
      "Iteration 22, loss = 0.17349865\n",
      "Iteration 23, loss = 0.17724000\n",
      "Iteration 24, loss = 0.17587735\n",
      "Iteration 25, loss = 0.16150978\n",
      "Iteration 26, loss = 0.15711366\n",
      "Iteration 27, loss = 0.16454959\n",
      "Iteration 28, loss = 0.15273586\n",
      "Iteration 29, loss = 0.16872881\n",
      "Iteration 30, loss = 0.16765205\n",
      "Iteration 31, loss = 0.16283669\n",
      "Iteration 32, loss = 0.15658654\n",
      "Iteration 33, loss = 0.15662268\n",
      "Iteration 34, loss = 0.17038016\n",
      "Iteration 35, loss = 0.15751889\n",
      "Iteration 36, loss = 0.15406750\n",
      "Iteration 37, loss = 0.17095200\n",
      "Iteration 38, loss = 0.16530475\n",
      "Iteration 39, loss = 0.16108390\n",
      "Training loss did not improve more than tol=0.000100 for 10 consecutive epochs. Stopping.\n",
      "Training set score: 0.948417\n",
      "Test set score: 0.873600\n"
     ]
    }
   ],
   "source": [
    "mlp2 = MLPClassifier(hidden_layer_sizes=(100,100,), max_iter=100, alpha=1e-4,\n",
    "                    solver='sgd', verbose=10, tol=1e-4, random_state=1,\n",
    "                    learning_rate_init=.1)\n",
    "mlp2.fit(X_train, y_train)\n",
    "print(\"Training set score: %f\" % mlp2.score(X_train, y_train))\n",
    "print(\"Test set score: %f\" % mlp2.score(X_test, y_test))"
   ]
  },
  {
   "cell_type": "markdown",
   "id": "865efb39",
   "metadata": {},
   "source": [
    "### 2-Layer, 200-neuron, 50-epoch\n",
    "\n",
    "A 2-layer neural network with 200 neurons and 50 epochs"
   ]
  },
  {
   "cell_type": "code",
   "execution_count": 14,
   "id": "70aeaf71",
   "metadata": {
    "scrolled": true
   },
   "outputs": [
    {
     "name": "stdout",
     "output_type": "stream",
     "text": [
      "Iteration 1, loss = 0.84157388\n",
      "Iteration 2, loss = 0.41124289\n",
      "Iteration 3, loss = 0.32685027\n",
      "Iteration 4, loss = 0.27822481\n",
      "Iteration 5, loss = 0.24477098\n",
      "Iteration 6, loss = 0.21631529\n",
      "Iteration 7, loss = 0.19502451\n",
      "Iteration 8, loss = 0.17756042\n",
      "Iteration 9, loss = 0.15924957\n",
      "Iteration 10, loss = 0.14356044\n",
      "Iteration 11, loss = 0.13818683\n",
      "Iteration 12, loss = 0.12896495\n",
      "Iteration 13, loss = 0.11841989\n",
      "Iteration 14, loss = 0.11316019\n",
      "Iteration 15, loss = 0.10580086\n",
      "Iteration 16, loss = 0.10150027\n",
      "Iteration 17, loss = 0.09859888\n",
      "Iteration 18, loss = 0.09059813\n",
      "Iteration 19, loss = 0.09015529\n",
      "Iteration 20, loss = 0.08736004\n",
      "Iteration 21, loss = 0.08290141\n",
      "Iteration 22, loss = 0.08421612\n",
      "Iteration 23, loss = 0.07926881\n",
      "Iteration 24, loss = 0.07811772\n",
      "Iteration 25, loss = 0.08379352\n",
      "Iteration 26, loss = 0.08303772\n",
      "Iteration 27, loss = 0.09512353\n",
      "Iteration 28, loss = 0.07959204\n",
      "Iteration 29, loss = 0.08386981\n",
      "Iteration 30, loss = 0.08447192\n",
      "Iteration 31, loss = 0.08153120\n",
      "Iteration 32, loss = 0.08627134\n",
      "Iteration 33, loss = 0.08533315\n",
      "Iteration 34, loss = 0.08060735\n",
      "Iteration 35, loss = 0.09593161\n",
      "Training loss did not improve more than tol=0.000100 for 10 consecutive epochs. Stopping.\n",
      "Training set score: 0.969917\n",
      "Test set score: 0.890900\n"
     ]
    }
   ],
   "source": [
    "mlp2 = MLPClassifier(hidden_layer_sizes=(200,200,), max_iter=50, alpha=1e-4,\n",
    "                    solver='sgd', verbose=10, tol=1e-4, random_state=1,\n",
    "                    learning_rate_init=.1)\n",
    "mlp2.fit(X_train, y_train)\n",
    "print(\"Training set score: %f\" % mlp2.score(X_train, y_train))\n",
    "print(\"Test set score: %f\" % mlp2.score(X_test, y_test))"
   ]
  },
  {
   "cell_type": "markdown",
   "id": "bc7f8a35",
   "metadata": {},
   "source": [
    "### 3-Layer, 200-neuron, 50-epoch\n",
    "\n",
    "A 3-layer neural network with 200 neurons and 50 epochs"
   ]
  },
  {
   "cell_type": "code",
   "execution_count": 15,
   "id": "97fce1f8",
   "metadata": {
    "scrolled": true
   },
   "outputs": [
    {
     "name": "stdout",
     "output_type": "stream",
     "text": [
      "Iteration 1, loss = 0.85006833\n",
      "Iteration 2, loss = 0.42132711\n",
      "Iteration 3, loss = 0.34014313\n",
      "Iteration 4, loss = 0.28538280\n",
      "Iteration 5, loss = 0.25113998\n",
      "Iteration 6, loss = 0.23027039\n",
      "Iteration 7, loss = 0.20491522\n",
      "Iteration 8, loss = 0.18557848\n",
      "Iteration 9, loss = 0.17633386\n",
      "Iteration 10, loss = 0.16720570\n",
      "Iteration 11, loss = 0.15510447\n",
      "Iteration 12, loss = 0.14226318\n",
      "Iteration 13, loss = 0.13870009\n",
      "Iteration 14, loss = 0.13507830\n",
      "Iteration 15, loss = 0.13196642\n",
      "Iteration 16, loss = 0.13615208\n",
      "Iteration 17, loss = 0.12941351\n",
      "Iteration 18, loss = 0.12493503\n",
      "Iteration 19, loss = 0.12010820\n",
      "Iteration 20, loss = 0.11158571\n",
      "Iteration 21, loss = 0.12005928\n",
      "Iteration 22, loss = 0.11618404\n",
      "Iteration 23, loss = 0.12492159\n",
      "Iteration 24, loss = 0.11358622\n",
      "Iteration 25, loss = 0.11479737\n",
      "Iteration 26, loss = 0.11409521\n",
      "Iteration 27, loss = 0.11565854\n",
      "Iteration 28, loss = 0.11527723\n",
      "Iteration 29, loss = 0.12009333\n",
      "Iteration 30, loss = 0.11039331\n",
      "Iteration 31, loss = 0.10923919\n",
      "Iteration 32, loss = 0.10390549\n",
      "Iteration 33, loss = 0.11187356\n",
      "Iteration 34, loss = 0.11584595\n",
      "Iteration 35, loss = 0.10797678\n",
      "Iteration 36, loss = 0.11416854\n",
      "Iteration 37, loss = 0.13129034\n",
      "Iteration 38, loss = 0.12727238\n",
      "Iteration 39, loss = 0.11516022\n",
      "Iteration 40, loss = 0.11273762\n",
      "Iteration 41, loss = 0.10406823\n",
      "Iteration 42, loss = 0.11787838\n",
      "Iteration 43, loss = 0.10931539\n",
      "Training loss did not improve more than tol=0.000100 for 10 consecutive epochs. Stopping.\n",
      "Training set score: 0.965233\n",
      "Test set score: 0.891000\n"
     ]
    }
   ],
   "source": [
    "mlp2 = MLPClassifier(hidden_layer_sizes=(200,200,200), max_iter=50, alpha=1e-4,\n",
    "                    solver='sgd', verbose=10, tol=1e-4, random_state=1,\n",
    "                    learning_rate_init=.1)\n",
    "mlp2.fit(X_train, y_train)\n",
    "print(\"Training set score: %f\" % mlp2.score(X_train, y_train))\n",
    "print(\"Test set score: %f\" % mlp2.score(X_test, y_test))"
   ]
  }
 ],
 "metadata": {
  "kernelspec": {
   "display_name": "Python 3 (ipykernel)",
   "language": "python",
   "name": "python3"
  },
  "language_info": {
   "codemirror_mode": {
    "name": "ipython",
    "version": 3
   },
   "file_extension": ".py",
   "mimetype": "text/x-python",
   "name": "python",
   "nbconvert_exporter": "python",
   "pygments_lexer": "ipython3",
   "version": "3.10.0"
  }
 },
 "nbformat": 4,
 "nbformat_minor": 5
}
