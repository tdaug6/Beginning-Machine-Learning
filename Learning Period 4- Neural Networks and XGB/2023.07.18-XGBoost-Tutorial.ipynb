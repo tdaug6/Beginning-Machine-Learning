{
 "cells": [
  {
   "cell_type": "markdown",
   "id": "ca508771",
   "metadata": {},
   "source": [
    "# XGBoost Tutorial\n",
    "\n",
    "This notebook shows the ways that XGBoost is used as a predictive model. \n",
    "The notebook contains many examples of using XGBoost on the seaborn diamond dataset.\n",
    "\n",
    "The code in this notebook was created by following a tutorial by datacamp. The link to the tutorial can be found below:\n",
    "\n",
    "https://www.datacamp.com/tutorial/xgboost-in-python"
   ]
  },
  {
   "cell_type": "markdown",
   "id": "270984a6",
   "metadata": {},
   "source": [
    "## Imports\n",
    "\n",
    "The packages in the following cell are everything that is needed to run this notebook. \n",
    "The cell also includes importing the diamonds dataset from seaborn."
   ]
  },
  {
   "cell_type": "code",
   "execution_count": 1,
   "id": "0b9781b2",
   "metadata": {},
   "outputs": [
    {
     "data": {
      "text/html": [
       "<div>\n",
       "<style scoped>\n",
       "    .dataframe tbody tr th:only-of-type {\n",
       "        vertical-align: middle;\n",
       "    }\n",
       "\n",
       "    .dataframe tbody tr th {\n",
       "        vertical-align: top;\n",
       "    }\n",
       "\n",
       "    .dataframe thead th {\n",
       "        text-align: right;\n",
       "    }\n",
       "</style>\n",
       "<table border=\"1\" class=\"dataframe\">\n",
       "  <thead>\n",
       "    <tr style=\"text-align: right;\">\n",
       "      <th></th>\n",
       "      <th>carat</th>\n",
       "      <th>cut</th>\n",
       "      <th>color</th>\n",
       "      <th>clarity</th>\n",
       "      <th>depth</th>\n",
       "      <th>table</th>\n",
       "      <th>price</th>\n",
       "      <th>x</th>\n",
       "      <th>y</th>\n",
       "      <th>z</th>\n",
       "    </tr>\n",
       "  </thead>\n",
       "  <tbody>\n",
       "    <tr>\n",
       "      <th>0</th>\n",
       "      <td>0.23</td>\n",
       "      <td>Ideal</td>\n",
       "      <td>E</td>\n",
       "      <td>SI2</td>\n",
       "      <td>61.5</td>\n",
       "      <td>55.0</td>\n",
       "      <td>326</td>\n",
       "      <td>3.95</td>\n",
       "      <td>3.98</td>\n",
       "      <td>2.43</td>\n",
       "    </tr>\n",
       "    <tr>\n",
       "      <th>1</th>\n",
       "      <td>0.21</td>\n",
       "      <td>Premium</td>\n",
       "      <td>E</td>\n",
       "      <td>SI1</td>\n",
       "      <td>59.8</td>\n",
       "      <td>61.0</td>\n",
       "      <td>326</td>\n",
       "      <td>3.89</td>\n",
       "      <td>3.84</td>\n",
       "      <td>2.31</td>\n",
       "    </tr>\n",
       "    <tr>\n",
       "      <th>2</th>\n",
       "      <td>0.23</td>\n",
       "      <td>Good</td>\n",
       "      <td>E</td>\n",
       "      <td>VS1</td>\n",
       "      <td>56.9</td>\n",
       "      <td>65.0</td>\n",
       "      <td>327</td>\n",
       "      <td>4.05</td>\n",
       "      <td>4.07</td>\n",
       "      <td>2.31</td>\n",
       "    </tr>\n",
       "    <tr>\n",
       "      <th>3</th>\n",
       "      <td>0.29</td>\n",
       "      <td>Premium</td>\n",
       "      <td>I</td>\n",
       "      <td>VS2</td>\n",
       "      <td>62.4</td>\n",
       "      <td>58.0</td>\n",
       "      <td>334</td>\n",
       "      <td>4.20</td>\n",
       "      <td>4.23</td>\n",
       "      <td>2.63</td>\n",
       "    </tr>\n",
       "    <tr>\n",
       "      <th>4</th>\n",
       "      <td>0.31</td>\n",
       "      <td>Good</td>\n",
       "      <td>J</td>\n",
       "      <td>SI2</td>\n",
       "      <td>63.3</td>\n",
       "      <td>58.0</td>\n",
       "      <td>335</td>\n",
       "      <td>4.34</td>\n",
       "      <td>4.35</td>\n",
       "      <td>2.75</td>\n",
       "    </tr>\n",
       "  </tbody>\n",
       "</table>\n",
       "</div>"
      ],
      "text/plain": [
       "   carat      cut color clarity  depth  table  price     x     y     z\n",
       "0   0.23    Ideal     E     SI2   61.5   55.0    326  3.95  3.98  2.43\n",
       "1   0.21  Premium     E     SI1   59.8   61.0    326  3.89  3.84  2.31\n",
       "2   0.23     Good     E     VS1   56.9   65.0    327  4.05  4.07  2.31\n",
       "3   0.29  Premium     I     VS2   62.4   58.0    334  4.20  4.23  2.63\n",
       "4   0.31     Good     J     SI2   63.3   58.0    335  4.34  4.35  2.75"
      ]
     },
     "execution_count": 1,
     "metadata": {},
     "output_type": "execute_result"
    }
   ],
   "source": [
    "import pandas as pd\n",
    "import numpy as np\n",
    "import seaborn as sns\n",
    "from sklearn.model_selection import train_test_split\n",
    "import xgboost as xgb\n",
    "from sklearn.metrics import mean_squared_error\n",
    "import warnings\n",
    "warnings.filterwarnings('ignore')\n",
    "\n",
    "diamonds = sns.load_dataset('diamonds')\n",
    "diamonds.head()"
   ]
  },
  {
   "cell_type": "markdown",
   "id": "25e82b71",
   "metadata": {},
   "source": [
    "Isolate features into X and the target into y."
   ]
  },
  {
   "cell_type": "code",
   "execution_count": 2,
   "id": "09c500df",
   "metadata": {},
   "outputs": [],
   "source": [
    "X, y = diamonds.drop('price', axis=1), diamonds[['price']]"
   ]
  },
  {
   "cell_type": "markdown",
   "id": "92ec153f",
   "metadata": {},
   "source": [
    "XGBoost has the ability to handle categorical data. \n",
    "This can be accomplished by turning the non-numerical types into Pandas 'category' type."
   ]
  },
  {
   "cell_type": "code",
   "execution_count": 3,
   "id": "4f6e2f64",
   "metadata": {},
   "outputs": [],
   "source": [
    "cats = X.select_dtypes(exclude=np.number).columns.tolist()\n",
    "\n",
    "for col in cats:\n",
    "    X[col] = X[col].astype('category')"
   ]
  },
  {
   "cell_type": "markdown",
   "id": "d7564337",
   "metadata": {},
   "source": [
    "View the datatypes of the features"
   ]
  },
  {
   "cell_type": "code",
   "execution_count": 4,
   "id": "78dc332b",
   "metadata": {},
   "outputs": [
    {
     "data": {
      "text/plain": [
       "carat       float64\n",
       "cut        category\n",
       "color      category\n",
       "clarity    category\n",
       "depth       float64\n",
       "table       float64\n",
       "x           float64\n",
       "y           float64\n",
       "z           float64\n",
       "dtype: object"
      ]
     },
     "execution_count": 4,
     "metadata": {},
     "output_type": "execute_result"
    }
   ],
   "source": [
    "X.dtypes"
   ]
  },
  {
   "cell_type": "markdown",
   "id": "a125a2f8",
   "metadata": {},
   "source": [
    "Split the data into train and test sets."
   ]
  },
  {
   "cell_type": "code",
   "execution_count": 5,
   "id": "780f68c5",
   "metadata": {},
   "outputs": [],
   "source": [
    "# Split the data\n",
    "X_train, X_test, y_train, y_test = train_test_split(X, y, random_state=1)"
   ]
  },
  {
   "cell_type": "markdown",
   "id": "194f4cea",
   "metadata": {},
   "source": [
    "XGBoost comes with its own class for storing datasets that is optimized for memory and speed.\n",
    "Convert the training and testing sets into DMatrices."
   ]
  },
  {
   "cell_type": "code",
   "execution_count": 6,
   "id": "455e9d56",
   "metadata": {},
   "outputs": [],
   "source": [
    "dtrain_reg = xgb.DMatrix(X_train, y_train, enable_categorical=True)\n",
    "dtest_reg = xgb.DMatrix(X_test, y_test, enable_categorical=True)"
   ]
  },
  {
   "cell_type": "markdown",
   "id": "9cec56db",
   "metadata": {},
   "source": [
    "Determine the hyperparameters for the model and train it."
   ]
  },
  {
   "cell_type": "code",
   "execution_count": 7,
   "id": "df692cc5",
   "metadata": {},
   "outputs": [],
   "source": [
    "params = {'objective': 'reg:squarederror', 'tree_method': 'gpu_hist'}\n",
    "n = 100\n",
    "\n",
    "model = xgb.train(params=params, dtrain=dtrain_reg, num_boost_round=n)"
   ]
  },
  {
   "cell_type": "markdown",
   "id": "eee62e2d",
   "metadata": {},
   "source": [
    "Make predictions and determine the error."
   ]
  },
  {
   "cell_type": "code",
   "execution_count": 8,
   "id": "72a346da",
   "metadata": {},
   "outputs": [
    {
     "name": "stdout",
     "output_type": "stream",
     "text": [
      "RMSE of the base model: 543.203\n"
     ]
    }
   ],
   "source": [
    "preds = model.predict(dtest_reg)\n",
    "\n",
    "rmse = mean_squared_error(y_test, preds, squared=False)\n",
    "print(f'RMSE of the base model: {rmse:.3f}')"
   ]
  },
  {
   "cell_type": "markdown",
   "id": "640c3c2b",
   "metadata": {},
   "source": [
    "Improve the model by providing ways to evaluate the model's performance during training"
   ]
  },
  {
   "cell_type": "code",
   "execution_count": 9,
   "id": "f712a847",
   "metadata": {
    "scrolled": true
   },
   "outputs": [
    {
     "name": "stdout",
     "output_type": "stream",
     "text": [
      "[0]\ttrain-rmse:3985.18329\tvalidation-rmse:3930.52457\n",
      "[10]\ttrain-rmse:550.08330\tvalidation-rmse:590.15023\n",
      "[20]\ttrain-rmse:488.51248\tvalidation-rmse:551.73431\n",
      "[30]\ttrain-rmse:463.13288\tvalidation-rmse:547.87843\n",
      "[40]\ttrain-rmse:447.69788\tvalidation-rmse:546.57096\n",
      "[50]\ttrain-rmse:432.91655\tvalidation-rmse:546.22557\n",
      "[60]\ttrain-rmse:421.24046\tvalidation-rmse:546.28601\n",
      "[70]\ttrain-rmse:408.64125\tvalidation-rmse:546.78238\n",
      "[80]\ttrain-rmse:396.41125\tvalidation-rmse:544.69846\n",
      "[90]\ttrain-rmse:386.87996\tvalidation-rmse:543.82192\n",
      "[99]\ttrain-rmse:378.30590\tvalidation-rmse:543.20278\n"
     ]
    }
   ],
   "source": [
    "evals = [(dtrain_reg, \"train\"), (dtest_reg, \"validation\")]\n",
    "\n",
    "model = xgb.train(params=params, \n",
    "                  dtrain=dtrain_reg, \n",
    "                  num_boost_round=n, \n",
    "                  evals=evals, \n",
    "                  verbose_eval=10)"
   ]
  },
  {
   "cell_type": "markdown",
   "id": "2583b130",
   "metadata": {},
   "source": [
    "Implement early stopping to get a better accuracy"
   ]
  },
  {
   "cell_type": "code",
   "execution_count": 10,
   "id": "4889221e",
   "metadata": {},
   "outputs": [
    {
     "name": "stdout",
     "output_type": "stream",
     "text": [
      "[0]\ttrain-rmse:3985.18329\tvalidation-rmse:3930.52457\n",
      "[10]\ttrain-rmse:550.08330\tvalidation-rmse:590.15023\n",
      "[20]\ttrain-rmse:488.51248\tvalidation-rmse:551.73431\n",
      "[30]\ttrain-rmse:463.13288\tvalidation-rmse:547.87843\n",
      "[40]\ttrain-rmse:447.69788\tvalidation-rmse:546.57096\n",
      "[50]\ttrain-rmse:432.91655\tvalidation-rmse:546.22557\n",
      "[60]\ttrain-rmse:421.24046\tvalidation-rmse:546.28601\n",
      "[70]\ttrain-rmse:408.64125\tvalidation-rmse:546.78238\n",
      "[80]\ttrain-rmse:396.41125\tvalidation-rmse:544.69846\n",
      "[90]\ttrain-rmse:386.87996\tvalidation-rmse:543.82192\n",
      "[100]\ttrain-rmse:377.66173\tvalidation-rmse:542.92457\n",
      "[110]\ttrain-rmse:367.76765\tvalidation-rmse:542.64203\n",
      "[120]\ttrain-rmse:356.78793\tvalidation-rmse:542.36125\n",
      "[130]\ttrain-rmse:346.40116\tvalidation-rmse:543.35004\n",
      "[140]\ttrain-rmse:341.56915\tvalidation-rmse:543.26361\n",
      "[150]\ttrain-rmse:334.27548\tvalidation-rmse:542.79733\n",
      "[160]\ttrain-rmse:326.12247\tvalidation-rmse:543.01177\n",
      "[167]\ttrain-rmse:321.04059\tvalidation-rmse:543.35679\n"
     ]
    }
   ],
   "source": [
    "n = 10000\n",
    "model = xgb.train(params=params, \n",
    "                  dtrain=dtrain_reg, \n",
    "                  num_boost_round=n, \n",
    "                  evals=evals, \n",
    "                  verbose_eval=10,\n",
    "                  early_stopping_rounds=50)"
   ]
  },
  {
   "cell_type": "markdown",
   "id": "14e4ce4e",
   "metadata": {},
   "source": [
    "Do cross-validation to evaluate the model's performance"
   ]
  },
  {
   "cell_type": "code",
   "execution_count": 11,
   "id": "44e98d0f",
   "metadata": {},
   "outputs": [],
   "source": [
    "n = 1000\n",
    "\n",
    "results = xgb.cv(\n",
    "   params, dtrain_reg,\n",
    "   num_boost_round=n,\n",
    "   nfold=5,\n",
    "   early_stopping_rounds=20\n",
    ")"
   ]
  },
  {
   "cell_type": "markdown",
   "id": "acd25fe7",
   "metadata": {},
   "source": [
    "View the results from the cross-validation"
   ]
  },
  {
   "cell_type": "code",
   "execution_count": 12,
   "id": "68af4dda",
   "metadata": {
    "scrolled": true
   },
   "outputs": [
    {
     "data": {
      "text/html": [
       "<div>\n",
       "<style scoped>\n",
       "    .dataframe tbody tr th:only-of-type {\n",
       "        vertical-align: middle;\n",
       "    }\n",
       "\n",
       "    .dataframe tbody tr th {\n",
       "        vertical-align: top;\n",
       "    }\n",
       "\n",
       "    .dataframe thead th {\n",
       "        text-align: right;\n",
       "    }\n",
       "</style>\n",
       "<table border=\"1\" class=\"dataframe\">\n",
       "  <thead>\n",
       "    <tr style=\"text-align: right;\">\n",
       "      <th></th>\n",
       "      <th>train-rmse-mean</th>\n",
       "      <th>train-rmse-std</th>\n",
       "      <th>test-rmse-mean</th>\n",
       "      <th>test-rmse-std</th>\n",
       "    </tr>\n",
       "  </thead>\n",
       "  <tbody>\n",
       "    <tr>\n",
       "      <th>0</th>\n",
       "      <td>3985.916350</td>\n",
       "      <td>10.487016</td>\n",
       "      <td>3988.423951</td>\n",
       "      <td>41.574104</td>\n",
       "    </tr>\n",
       "    <tr>\n",
       "      <th>1</th>\n",
       "      <td>2849.172043</td>\n",
       "      <td>8.442412</td>\n",
       "      <td>2851.153868</td>\n",
       "      <td>27.958226</td>\n",
       "    </tr>\n",
       "    <tr>\n",
       "      <th>2</th>\n",
       "      <td>2061.848631</td>\n",
       "      <td>5.249746</td>\n",
       "      <td>2065.243634</td>\n",
       "      <td>20.725252</td>\n",
       "    </tr>\n",
       "    <tr>\n",
       "      <th>3</th>\n",
       "      <td>1519.083661</td>\n",
       "      <td>4.211126</td>\n",
       "      <td>1525.289339</td>\n",
       "      <td>15.322446</td>\n",
       "    </tr>\n",
       "    <tr>\n",
       "      <th>4</th>\n",
       "      <td>1153.624523</td>\n",
       "      <td>3.514243</td>\n",
       "      <td>1165.898398</td>\n",
       "      <td>11.494377</td>\n",
       "    </tr>\n",
       "    <tr>\n",
       "      <th>5</th>\n",
       "      <td>911.815939</td>\n",
       "      <td>3.338913</td>\n",
       "      <td>930.413380</td>\n",
       "      <td>10.731272</td>\n",
       "    </tr>\n",
       "    <tr>\n",
       "      <th>6</th>\n",
       "      <td>757.556653</td>\n",
       "      <td>3.018800</td>\n",
       "      <td>781.823935</td>\n",
       "      <td>9.983300</td>\n",
       "    </tr>\n",
       "    <tr>\n",
       "      <th>7</th>\n",
       "      <td>661.581176</td>\n",
       "      <td>2.924716</td>\n",
       "      <td>691.241342</td>\n",
       "      <td>9.533563</td>\n",
       "    </tr>\n",
       "    <tr>\n",
       "      <th>8</th>\n",
       "      <td>603.728460</td>\n",
       "      <td>3.366991</td>\n",
       "      <td>638.008955</td>\n",
       "      <td>10.043351</td>\n",
       "    </tr>\n",
       "    <tr>\n",
       "      <th>9</th>\n",
       "      <td>568.420969</td>\n",
       "      <td>3.286696</td>\n",
       "      <td>606.541825</td>\n",
       "      <td>11.651092</td>\n",
       "    </tr>\n",
       "    <tr>\n",
       "      <th>10</th>\n",
       "      <td>546.268365</td>\n",
       "      <td>3.384141</td>\n",
       "      <td>588.353028</td>\n",
       "      <td>11.304036</td>\n",
       "    </tr>\n",
       "    <tr>\n",
       "      <th>11</th>\n",
       "      <td>531.611450</td>\n",
       "      <td>2.971447</td>\n",
       "      <td>576.334046</td>\n",
       "      <td>12.336278</td>\n",
       "    </tr>\n",
       "    <tr>\n",
       "      <th>12</th>\n",
       "      <td>520.535647</td>\n",
       "      <td>3.520500</td>\n",
       "      <td>569.124303</td>\n",
       "      <td>12.001541</td>\n",
       "    </tr>\n",
       "    <tr>\n",
       "      <th>13</th>\n",
       "      <td>512.945972</td>\n",
       "      <td>2.388843</td>\n",
       "      <td>565.081442</td>\n",
       "      <td>12.283229</td>\n",
       "    </tr>\n",
       "    <tr>\n",
       "      <th>14</th>\n",
       "      <td>507.208650</td>\n",
       "      <td>2.407483</td>\n",
       "      <td>562.294001</td>\n",
       "      <td>12.256026</td>\n",
       "    </tr>\n",
       "    <tr>\n",
       "      <th>15</th>\n",
       "      <td>501.208119</td>\n",
       "      <td>2.532326</td>\n",
       "      <td>560.262410</td>\n",
       "      <td>11.377736</td>\n",
       "    </tr>\n",
       "    <tr>\n",
       "      <th>16</th>\n",
       "      <td>496.274371</td>\n",
       "      <td>3.222218</td>\n",
       "      <td>558.715959</td>\n",
       "      <td>11.558541</td>\n",
       "    </tr>\n",
       "    <tr>\n",
       "      <th>17</th>\n",
       "      <td>492.103302</td>\n",
       "      <td>2.777291</td>\n",
       "      <td>557.104588</td>\n",
       "      <td>11.726865</td>\n",
       "    </tr>\n",
       "    <tr>\n",
       "      <th>18</th>\n",
       "      <td>486.911159</td>\n",
       "      <td>2.483286</td>\n",
       "      <td>556.821521</td>\n",
       "      <td>11.864565</td>\n",
       "    </tr>\n",
       "    <tr>\n",
       "      <th>19</th>\n",
       "      <td>483.175035</td>\n",
       "      <td>2.501145</td>\n",
       "      <td>556.099178</td>\n",
       "      <td>12.413972</td>\n",
       "    </tr>\n",
       "    <tr>\n",
       "      <th>20</th>\n",
       "      <td>479.778021</td>\n",
       "      <td>1.837725</td>\n",
       "      <td>555.888570</td>\n",
       "      <td>12.562443</td>\n",
       "    </tr>\n",
       "    <tr>\n",
       "      <th>21</th>\n",
       "      <td>476.720027</td>\n",
       "      <td>2.032729</td>\n",
       "      <td>555.631295</td>\n",
       "      <td>12.748687</td>\n",
       "    </tr>\n",
       "    <tr>\n",
       "      <th>22</th>\n",
       "      <td>472.888153</td>\n",
       "      <td>1.255861</td>\n",
       "      <td>554.963809</td>\n",
       "      <td>12.379497</td>\n",
       "    </tr>\n",
       "    <tr>\n",
       "      <th>23</th>\n",
       "      <td>470.044039</td>\n",
       "      <td>1.940242</td>\n",
       "      <td>554.403142</td>\n",
       "      <td>12.639568</td>\n",
       "    </tr>\n",
       "    <tr>\n",
       "      <th>24</th>\n",
       "      <td>467.268163</td>\n",
       "      <td>2.682067</td>\n",
       "      <td>553.990297</td>\n",
       "      <td>12.784581</td>\n",
       "    </tr>\n",
       "    <tr>\n",
       "      <th>25</th>\n",
       "      <td>463.789289</td>\n",
       "      <td>3.669210</td>\n",
       "      <td>553.997115</td>\n",
       "      <td>13.122871</td>\n",
       "    </tr>\n",
       "    <tr>\n",
       "      <th>26</th>\n",
       "      <td>462.088878</td>\n",
       "      <td>4.413167</td>\n",
       "      <td>553.096995</td>\n",
       "      <td>12.943496</td>\n",
       "    </tr>\n",
       "    <tr>\n",
       "      <th>27</th>\n",
       "      <td>459.389375</td>\n",
       "      <td>4.831461</td>\n",
       "      <td>553.408006</td>\n",
       "      <td>12.451533</td>\n",
       "    </tr>\n",
       "    <tr>\n",
       "      <th>28</th>\n",
       "      <td>456.524889</td>\n",
       "      <td>4.371875</td>\n",
       "      <td>552.562105</td>\n",
       "      <td>12.409136</td>\n",
       "    </tr>\n",
       "    <tr>\n",
       "      <th>29</th>\n",
       "      <td>454.989140</td>\n",
       "      <td>4.551318</td>\n",
       "      <td>552.318565</td>\n",
       "      <td>12.227283</td>\n",
       "    </tr>\n",
       "    <tr>\n",
       "      <th>30</th>\n",
       "      <td>453.197116</td>\n",
       "      <td>4.646964</td>\n",
       "      <td>551.699307</td>\n",
       "      <td>12.039338</td>\n",
       "    </tr>\n",
       "    <tr>\n",
       "      <th>31</th>\n",
       "      <td>451.239393</td>\n",
       "      <td>4.734821</td>\n",
       "      <td>551.280227</td>\n",
       "      <td>11.971619</td>\n",
       "    </tr>\n",
       "    <tr>\n",
       "      <th>32</th>\n",
       "      <td>448.489787</td>\n",
       "      <td>3.869885</td>\n",
       "      <td>551.113417</td>\n",
       "      <td>12.000198</td>\n",
       "    </tr>\n",
       "    <tr>\n",
       "      <th>33</th>\n",
       "      <td>446.590221</td>\n",
       "      <td>3.976082</td>\n",
       "      <td>551.166996</td>\n",
       "      <td>12.155769</td>\n",
       "    </tr>\n",
       "    <tr>\n",
       "      <th>34</th>\n",
       "      <td>444.832211</td>\n",
       "      <td>3.027496</td>\n",
       "      <td>550.895934</td>\n",
       "      <td>11.884456</td>\n",
       "    </tr>\n",
       "  </tbody>\n",
       "</table>\n",
       "</div>"
      ],
      "text/plain": [
       "    train-rmse-mean  train-rmse-std  test-rmse-mean  test-rmse-std\n",
       "0       3985.916350       10.487016     3988.423951      41.574104\n",
       "1       2849.172043        8.442412     2851.153868      27.958226\n",
       "2       2061.848631        5.249746     2065.243634      20.725252\n",
       "3       1519.083661        4.211126     1525.289339      15.322446\n",
       "4       1153.624523        3.514243     1165.898398      11.494377\n",
       "5        911.815939        3.338913      930.413380      10.731272\n",
       "6        757.556653        3.018800      781.823935       9.983300\n",
       "7        661.581176        2.924716      691.241342       9.533563\n",
       "8        603.728460        3.366991      638.008955      10.043351\n",
       "9        568.420969        3.286696      606.541825      11.651092\n",
       "10       546.268365        3.384141      588.353028      11.304036\n",
       "11       531.611450        2.971447      576.334046      12.336278\n",
       "12       520.535647        3.520500      569.124303      12.001541\n",
       "13       512.945972        2.388843      565.081442      12.283229\n",
       "14       507.208650        2.407483      562.294001      12.256026\n",
       "15       501.208119        2.532326      560.262410      11.377736\n",
       "16       496.274371        3.222218      558.715959      11.558541\n",
       "17       492.103302        2.777291      557.104588      11.726865\n",
       "18       486.911159        2.483286      556.821521      11.864565\n",
       "19       483.175035        2.501145      556.099178      12.413972\n",
       "20       479.778021        1.837725      555.888570      12.562443\n",
       "21       476.720027        2.032729      555.631295      12.748687\n",
       "22       472.888153        1.255861      554.963809      12.379497\n",
       "23       470.044039        1.940242      554.403142      12.639568\n",
       "24       467.268163        2.682067      553.990297      12.784581\n",
       "25       463.789289        3.669210      553.997115      13.122871\n",
       "26       462.088878        4.413167      553.096995      12.943496\n",
       "27       459.389375        4.831461      553.408006      12.451533\n",
       "28       456.524889        4.371875      552.562105      12.409136\n",
       "29       454.989140        4.551318      552.318565      12.227283\n",
       "30       453.197116        4.646964      551.699307      12.039338\n",
       "31       451.239393        4.734821      551.280227      11.971619\n",
       "32       448.489787        3.869885      551.113417      12.000198\n",
       "33       446.590221        3.976082      551.166996      12.155769\n",
       "34       444.832211        3.027496      550.895934      11.884456"
      ]
     },
     "execution_count": 12,
     "metadata": {},
     "output_type": "execute_result"
    }
   ],
   "source": [
    "results"
   ]
  },
  {
   "cell_type": "markdown",
   "id": "ac4787bb",
   "metadata": {},
   "source": [
    "The best error for the validation set is shown below"
   ]
  },
  {
   "cell_type": "code",
   "execution_count": 13,
   "id": "b0352b7b",
   "metadata": {},
   "outputs": [
    {
     "data": {
      "text/plain": [
       "550.8959336674216"
      ]
     },
     "execution_count": 13,
     "metadata": {},
     "output_type": "execute_result"
    }
   ],
   "source": [
    "best_rmse = results['test-rmse-mean'].min()\n",
    "best_rmse"
   ]
  },
  {
   "cell_type": "markdown",
   "id": "b51210cd",
   "metadata": {},
   "source": [
    "XGB also works for classification"
   ]
  },
  {
   "cell_type": "code",
   "execution_count": 14,
   "id": "67a90047",
   "metadata": {},
   "outputs": [],
   "source": [
    "from sklearn.preprocessing import OrdinalEncoder\n",
    "\n",
    "X, y = diamonds.drop(\"cut\", axis=1), diamonds[['cut']]\n",
    "\n",
    "# Encode y to numeric\n",
    "y_encoded = OrdinalEncoder().fit_transform(y)\n",
    "\n",
    "# Extract text features\n",
    "cats = X.select_dtypes(exclude=np.number).columns.tolist()\n",
    "\n",
    "# Convert to pd.Categorical\n",
    "for col in cats:\n",
    "   X[col] = X[col].astype('category')\n",
    "\n",
    "# Split the data\n",
    "X_train, X_test, y_train, y_test = train_test_split(X, y_encoded, random_state=1, stratify=y_encoded)"
   ]
  },
  {
   "cell_type": "markdown",
   "id": "0bddc303",
   "metadata": {},
   "source": [
    "Turn dataframe into DMatrix"
   ]
  },
  {
   "cell_type": "code",
   "execution_count": 15,
   "id": "f1efbe0e",
   "metadata": {},
   "outputs": [],
   "source": [
    "# Create classification matrices\n",
    "dtrain_clf = xgb.DMatrix(X_train, y_train, enable_categorical=True)\n",
    "dtest_clf = xgb.DMatrix(X_test, y_test, enable_categorical=True)"
   ]
  },
  {
   "cell_type": "markdown",
   "id": "40ba7daa",
   "metadata": {},
   "source": [
    "Build a model and train it"
   ]
  },
  {
   "cell_type": "code",
   "execution_count": 16,
   "id": "44be0be2",
   "metadata": {},
   "outputs": [],
   "source": [
    "params = {\"objective\": \"multi:softprob\", \"tree_method\": \"gpu_hist\", \"num_class\": 5}\n",
    "n = 1000\n",
    "\n",
    "results = xgb.cv(\n",
    "   params, dtrain_clf,\n",
    "   num_boost_round=n,\n",
    "   nfold=5,\n",
    "   metrics=[\"mlogloss\", \"auc\", \"merror\"],\n",
    ")"
   ]
  },
  {
   "cell_type": "markdown",
   "id": "c1aaf4f5",
   "metadata": {},
   "source": [
    "Metrics to evaluate model"
   ]
  },
  {
   "cell_type": "code",
   "execution_count": 17,
   "id": "a5e8a624",
   "metadata": {},
   "outputs": [
    {
     "data": {
      "text/plain": [
       "Index(['train-mlogloss-mean', 'train-mlogloss-std', 'train-auc-mean',\n",
       "       'train-auc-std', 'train-merror-mean', 'train-merror-std',\n",
       "       'test-mlogloss-mean', 'test-mlogloss-std', 'test-auc-mean',\n",
       "       'test-auc-std', 'test-merror-mean', 'test-merror-std'],\n",
       "      dtype='object')"
      ]
     },
     "execution_count": 17,
     "metadata": {},
     "output_type": "execute_result"
    }
   ],
   "source": [
    "results.keys()"
   ]
  },
  {
   "cell_type": "markdown",
   "id": "aacc3f32",
   "metadata": {},
   "source": [
    "Best area under curve is maximum"
   ]
  },
  {
   "cell_type": "code",
   "execution_count": 18,
   "id": "8759406e",
   "metadata": {},
   "outputs": [
    {
     "data": {
      "text/plain": [
       "0.9402233623451636"
      ]
     },
     "execution_count": 18,
     "metadata": {},
     "output_type": "execute_result"
    }
   ],
   "source": [
    "results['test-auc-mean'].max()"
   ]
  }
 ],
 "metadata": {
  "kernelspec": {
   "display_name": "Python 3 (ipykernel)",
   "language": "python",
   "name": "python3"
  },
  "language_info": {
   "codemirror_mode": {
    "name": "ipython",
    "version": 3
   },
   "file_extension": ".py",
   "mimetype": "text/x-python",
   "name": "python",
   "nbconvert_exporter": "python",
   "pygments_lexer": "ipython3",
   "version": "3.10.0"
  }
 },
 "nbformat": 4,
 "nbformat_minor": 5
}
