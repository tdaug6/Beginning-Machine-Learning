{
 "cells": [
  {
   "cell_type": "markdown",
   "id": "6b74d829",
   "metadata": {},
   "source": [
    "# NIfTI Basic Tutorial\n",
    "\n",
    "This code is from a tutorial\n",
    "\n",
    "https://carpentries-incubator.github.io/SDC-BIDS-IntroMRI/anatomy-of-nifti/index.html\n",
    "\n",
    "This will show how to load a NIfTI file and do very basic analysis on it"
   ]
  },
  {
   "cell_type": "markdown",
   "id": "250223d6",
   "metadata": {},
   "source": [
    "## Load Image\n",
    "\n",
    "`NiBabel` is used to work with neuroimaging data, in this case NIfTI images.\n",
    "\n",
    "`load()` loads the image\n",
    "\n",
    "The `header` attribute gives information about the image file"
   ]
  },
  {
   "cell_type": "code",
   "execution_count": 5,
   "id": "d53dcea2",
   "metadata": {
    "scrolled": true
   },
   "outputs": [
    {
     "name": "stdout",
     "output_type": "stream",
     "text": [
      "<class 'nibabel.nifti1.Nifti1Header'> object, endian='<'\n",
      "sizeof_hdr      : 348\n",
      "data_type       : b''\n",
      "db_name         : b''\n",
      "extents         : 0\n",
      "session_error   : 0\n",
      "regular         : b'r'\n",
      "dim_info        : 48\n",
      "dim             : [  4  64  64  35 251   1   1   1]\n",
      "intent_p1       : 0.0\n",
      "intent_p2       : 0.0\n",
      "intent_p3       : 0.0\n",
      "intent_code     : none\n",
      "datatype        : int16\n",
      "bitpix          : 16\n",
      "slice_start     : 0\n",
      "pixdim          : [-1.  3.  3.  3.  2.  0.  0.  0.]\n",
      "vox_offset      : 0.0\n",
      "scl_slope       : nan\n",
      "scl_inter       : nan\n",
      "slice_end       : 34\n",
      "slice_code      : unknown\n",
      "xyzt_units      : 10\n",
      "cal_max         : 0.0\n",
      "cal_min         : 0.0\n",
      "slice_duration  : 0.0\n",
      "toffset         : 0.0\n",
      "glmax           : 0\n",
      "glmin           : 0\n",
      "descrip         : b''\n",
      "aux_file        : b''\n",
      "qform_code      : scanner\n",
      "sform_code      : scanner\n",
      "quatern_b       : -0.0\n",
      "quatern_c       : 1.0\n",
      "quatern_d       : 0.0\n",
      "qoffset_x       : 96.66492\n",
      "qoffset_y       : -58.083405\n",
      "qoffset_z       : -16.50471\n",
      "srow_x          : [-3.      -0.      -0.      96.66492]\n",
      "srow_y          : [ -0.         3.        -0.       -58.083405]\n",
      "srow_z          : [  0.        0.        3.      -16.50471]\n",
      "intent_name     : b''\n",
      "magic           : b'n+1'\n"
     ]
    }
   ],
   "source": [
    "import nibabel as nib\n",
    "img = nib.load('rest.nii.gz')\n",
    "\n",
    "print(img.header)"
   ]
  },
  {
   "cell_type": "markdown",
   "id": "62541fe6",
   "metadata": {},
   "source": [
    "The header is a dictionary. Can view all of keys for the image"
   ]
  },
  {
   "cell_type": "code",
   "execution_count": 3,
   "id": "b1cc6521",
   "metadata": {
    "scrolled": true
   },
   "outputs": [
    {
     "data": {
      "text/plain": [
       "['sizeof_hdr',\n",
       " 'data_type',\n",
       " 'db_name',\n",
       " 'extents',\n",
       " 'session_error',\n",
       " 'regular',\n",
       " 'dim_info',\n",
       " 'dim',\n",
       " 'intent_p1',\n",
       " 'intent_p2',\n",
       " 'intent_p3',\n",
       " 'intent_code',\n",
       " 'datatype',\n",
       " 'bitpix',\n",
       " 'slice_start',\n",
       " 'pixdim',\n",
       " 'vox_offset',\n",
       " 'scl_slope',\n",
       " 'scl_inter',\n",
       " 'slice_end',\n",
       " 'slice_code',\n",
       " 'xyzt_units',\n",
       " 'cal_max',\n",
       " 'cal_min',\n",
       " 'slice_duration',\n",
       " 'toffset',\n",
       " 'glmax',\n",
       " 'glmin',\n",
       " 'descrip',\n",
       " 'aux_file',\n",
       " 'qform_code',\n",
       " 'sform_code',\n",
       " 'quatern_b',\n",
       " 'quatern_c',\n",
       " 'quatern_d',\n",
       " 'qoffset_x',\n",
       " 'qoffset_y',\n",
       " 'qoffset_z',\n",
       " 'srow_x',\n",
       " 'srow_y',\n",
       " 'srow_z',\n",
       " 'intent_name',\n",
       " 'magic']"
      ]
     },
     "execution_count": 3,
     "metadata": {},
     "output_type": "execute_result"
    }
   ],
   "source": [
    "img.header.keys()"
   ]
  },
  {
   "cell_type": "markdown",
   "id": "d5d2271c",
   "metadata": {},
   "source": [
    "## Data\n",
    "\n",
    "Header contains useful info that gives data about properties (metadata) associated with image"
   ]
  },
  {
   "cell_type": "code",
   "execution_count": 7,
   "id": "24ec2a4e",
   "metadata": {},
   "outputs": [
    {
     "data": {
      "text/plain": [
       "array([[[[ 0.,  0.,  0., ...,  0.,  0.,  0.],\n",
       "         [ 0.,  0.,  0., ...,  0.,  0.,  0.],\n",
       "         [ 0.,  0.,  0., ...,  0.,  0.,  0.],\n",
       "         ...,\n",
       "         [ 0.,  0.,  0., ...,  0.,  0.,  0.],\n",
       "         [ 0.,  0.,  0., ...,  0.,  0.,  0.],\n",
       "         [ 0.,  0.,  0., ...,  0.,  0.,  0.]],\n",
       "\n",
       "        [[ 0.,  0.,  0., ...,  0.,  0.,  0.],\n",
       "         [ 0.,  0.,  0., ...,  0.,  0.,  0.],\n",
       "         [ 0.,  0.,  0., ...,  0.,  0.,  0.],\n",
       "         ...,\n",
       "         [ 0.,  0.,  0., ...,  0.,  0.,  0.],\n",
       "         [ 0.,  0.,  0., ...,  0.,  0.,  0.],\n",
       "         [ 0.,  0.,  0., ...,  0.,  0.,  0.]],\n",
       "\n",
       "        [[ 0.,  0.,  0., ...,  0.,  0.,  0.],\n",
       "         [ 0.,  0.,  0., ...,  0.,  0.,  0.],\n",
       "         [ 0.,  0.,  0., ...,  0.,  0.,  0.],\n",
       "         ...,\n",
       "         [ 0.,  0.,  0., ...,  0.,  0.,  0.],\n",
       "         [ 0.,  0.,  0., ...,  0.,  0.,  0.],\n",
       "         [ 0.,  0.,  0., ...,  0.,  0.,  0.]],\n",
       "\n",
       "        ...,\n",
       "\n",
       "        [[ 0.,  0.,  0., ...,  0.,  0.,  0.],\n",
       "         [ 0.,  0.,  0., ...,  0.,  0.,  0.],\n",
       "         [ 0.,  0.,  0., ...,  0.,  0.,  0.],\n",
       "         ...,\n",
       "         [ 0.,  0.,  0., ...,  0.,  0.,  0.],\n",
       "         [ 0.,  0.,  0., ...,  0.,  0.,  0.],\n",
       "         [ 0.,  0.,  0., ...,  0.,  0.,  0.]],\n",
       "\n",
       "        [[ 0.,  0.,  0., ...,  0.,  0.,  0.],\n",
       "         [ 0.,  0.,  0., ...,  0.,  0.,  0.],\n",
       "         [ 0.,  0.,  0., ...,  0.,  0.,  0.],\n",
       "         ...,\n",
       "         [ 0.,  0.,  0., ...,  0.,  0.,  0.],\n",
       "         [ 0.,  0.,  0., ...,  0.,  0.,  0.],\n",
       "         [ 0.,  0.,  0., ...,  0.,  0.,  0.]],\n",
       "\n",
       "        [[ 0.,  0.,  0., ...,  0.,  0.,  0.],\n",
       "         [ 0.,  0.,  0., ...,  0.,  0.,  0.],\n",
       "         [ 0.,  0.,  0., ...,  0.,  0.,  0.],\n",
       "         ...,\n",
       "         [ 0.,  0.,  0., ...,  0.,  0.,  0.],\n",
       "         [ 0.,  0.,  0., ...,  0.,  0.,  0.],\n",
       "         [ 0.,  0.,  0., ...,  0.,  0.,  0.]]],\n",
       "\n",
       "\n",
       "       [[[29., 18.,  9., ..., 25., 25., 12.],\n",
       "         [17., 61.,  8., ...,  7., 24.,  4.],\n",
       "         [20., 18., 19., ...,  7., 17., 17.],\n",
       "         ...,\n",
       "         [24., 31.,  6., ...,  9., 24., 17.],\n",
       "         [ 5., 11., 29., ..., 11., 19., 16.],\n",
       "         [16.,  7., 11., ..., 26., 29., 11.]],\n",
       "\n",
       "        [[19., 20., 14., ...,  9., 26., 44.],\n",
       "         [33., 26.,  5., ..., 26., 19., 29.],\n",
       "         [13., 14.,  9., ..., 15.,  5., 20.],\n",
       "         ...,\n",
       "         [20., 22.,  8., ...,  9., 17., 17.],\n",
       "         [ 4., 23., 28., ..., 12., 17., 12.],\n",
       "         [ 9., 16.,  6., ..., 26., 13., 24.]],\n",
       "\n",
       "        [[ 8., 15., 20., ..., 26.,  6., 26.],\n",
       "         [ 8.,  4., 21., ...,  6., 35., 11.],\n",
       "         [ 7., 13., 20., ...,  7., 18., 17.],\n",
       "         ...,\n",
       "         [37., 38., 12., ..., 14., 38., 17.],\n",
       "         [ 7.,  4., 27., ..., 12., 21., 20.],\n",
       "         [27.,  0., 18., ..., 19., 35.,  3.]],\n",
       "\n",
       "        ...,\n",
       "\n",
       "        [[23., 20., 22., ..., 21.,  6., 29.],\n",
       "         [34., 27., 27., ..., 17., 20., 13.],\n",
       "         [31., 24.,  7., ..., 25.,  8., 13.],\n",
       "         ...,\n",
       "         [21., 14., 27., ..., 35., 16.,  8.],\n",
       "         [27.,  8., 19., ...,  6., 36., 26.],\n",
       "         [21., 14., 27., ..., 29., 14., 18.]],\n",
       "\n",
       "        [[ 8., 26., 15., ..., 11., 19., 40.],\n",
       "         [12., 18., 25., ..., 20., 33., 22.],\n",
       "         [12., 22.,  4., ..., 17., 13., 22.],\n",
       "         ...,\n",
       "         [21., 16., 19., ..., 13., 20., 12.],\n",
       "         [19., 26., 18., ..., 13., 30., 39.],\n",
       "         [20., 34., 31., ..., 23., 16., 19.]],\n",
       "\n",
       "        [[17., 19., 13., ..., 25., 23.,  3.],\n",
       "         [ 6.,  4., 17., ..., 33., 11., 30.],\n",
       "         [11., 11., 33., ...,  5., 10., 19.],\n",
       "         ...,\n",
       "         [ 2., 18., 22., ..., 29.,  6., 18.],\n",
       "         [14., 29.,  6., ..., 21., 15., 26.],\n",
       "         [18., 30., 33., ..., 16.,  4., 13.]]],\n",
       "\n",
       "\n",
       "       [[[21., 21.,  5., ...,  9., 15., 22.],\n",
       "         [35., 30., 23., ..., 11., 16., 35.],\n",
       "         [11., 21., 17., ..., 14., 39.,  7.],\n",
       "         ...,\n",
       "         [24., 31., 10., ..., 11., 21., 25.],\n",
       "         [24., 10., 11., ..., 38., 11.,  9.],\n",
       "         [14., 11., 33., ...,  8., 21., 27.]],\n",
       "\n",
       "        [[17., 14., 10., ..., 13.,  8., 24.],\n",
       "         [ 8., 17., 15., ..., 21., 23., 32.],\n",
       "         [17., 14., 27., ..., 15., 26., 25.],\n",
       "         ...,\n",
       "         [14., 29.,  5., ..., 11., 23., 21.],\n",
       "         [15., 21., 15., ..., 22., 16., 18.],\n",
       "         [15.,  5., 28., ..., 16., 20.,  7.]],\n",
       "\n",
       "        [[ 9., 23., 28., ...,  8.,  8., 15.],\n",
       "         [25.,  4., 16., ..., 10., 18.,  9.],\n",
       "         [10., 15., 14., ..., 43.,  4., 29.],\n",
       "         ...,\n",
       "         [38., 34., 26., ...,  7., 16., 24.],\n",
       "         [19.,  1., 11., ..., 52.,  4., 15.],\n",
       "         [18., 16., 28., ...,  8., 17., 38.]],\n",
       "\n",
       "        ...,\n",
       "\n",
       "        [[29., 20.,  3., ..., 10., 23., 12.],\n",
       "         [26., 25., 18., ..., 18., 20., 20.],\n",
       "         [21., 10.,  8., ..., 13., 36., 17.],\n",
       "         ...,\n",
       "         [21., 16., 26., ..., 17., 16., 36.],\n",
       "         [ 9., 16., 14., ..., 29., 18., 10.],\n",
       "         [28.,  9.,  4., ..., 16., 23.,  9.]],\n",
       "\n",
       "        [[11., 13., 36., ..., 22.,  7., 43.],\n",
       "         [ 7., 14., 31., ..., 19., 19., 24.],\n",
       "         [16., 39., 27., ...,  7., 29., 23.],\n",
       "         ...,\n",
       "         [15., 25.,  9., ..., 12., 16., 22.],\n",
       "         [ 9., 17., 14., ..., 18., 29., 23.],\n",
       "         [27., 23., 23., ..., 21., 20.,  6.]],\n",
       "\n",
       "        [[26., 19., 22., ...,  5., 19., 18.],\n",
       "         [23., 19.,  8., ..., 40., 15., 17.],\n",
       "         [30., 19., 19., ..., 17., 29., 12.],\n",
       "         ...,\n",
       "         [22., 27., 19., ..., 25., 27., 15.],\n",
       "         [14., 25., 10., ..., 20., 28., 28.],\n",
       "         [17., 20., 26., ..., 16., 25., 18.]]],\n",
       "\n",
       "\n",
       "       ...,\n",
       "\n",
       "\n",
       "       [[[ 6., 32.,  1., ..., 10., 15., 21.],\n",
       "         [ 6., 37., 25., ..., 17., 18., 30.],\n",
       "         [21., 28., 11., ..., 55., 24., 10.],\n",
       "         ...,\n",
       "         [20., 11., 34., ..., 11., 13., 14.],\n",
       "         [38.,  9., 18., ..., 29., 25., 25.],\n",
       "         [11.,  1., 12., ..., 19., 23., 30.]],\n",
       "\n",
       "        [[10., 19., 25., ..., 16., 28.,  9.],\n",
       "         [11.,  5., 22., ...,  6.,  5., 30.],\n",
       "         [30., 29., 15., ..., 26., 20., 20.],\n",
       "         ...,\n",
       "         [25., 13., 34., ...,  8., 12., 18.],\n",
       "         [24., 10., 16., ..., 30., 38., 28.],\n",
       "         [14.,  4., 21., ..., 38., 29., 37.]],\n",
       "\n",
       "        [[15., 28., 14., ..., 37., 17.,  8.],\n",
       "         [14., 15., 16., ..., 27., 21., 26.],\n",
       "         [25., 29.,  7., ..., 19., 15., 18.],\n",
       "         ...,\n",
       "         [11., 11., 19., ..., 22.,  8., 10.],\n",
       "         [52.,  3., 21., ..., 25., 18., 19.],\n",
       "         [ 5., 11.,  3., ...,  7., 15., 23.]],\n",
       "\n",
       "        ...,\n",
       "\n",
       "        [[ 7.,  8., 18., ...,  8., 28.,  6.],\n",
       "         [12., 19., 47., ..., 22., 25.,  9.],\n",
       "         [11., 25., 26., ..., 13., 32.,  7.],\n",
       "         ...,\n",
       "         [28., 26., 42., ...,  8., 22., 11.],\n",
       "         [21., 27., 22., ..., 10., 12., 29.],\n",
       "         [26., 37., 18., ...,  8.,  4., 17.]],\n",
       "\n",
       "        [[29., 29., 27., ..., 11., 40., 10.],\n",
       "         [13., 22., 18., ..., 29., 13., 20.],\n",
       "         [33., 27., 19., ..., 22., 27., 12.],\n",
       "         ...,\n",
       "         [22., 14., 16., ..., 25., 16.,  9.],\n",
       "         [ 8., 31.,  8., ..., 25., 39., 13.],\n",
       "         [24., 22., 11., ..., 29., 24., 28.]],\n",
       "\n",
       "        [[ 4., 11., 16., ..., 29.,  8.,  6.],\n",
       "         [22., 14., 22., ..., 38., 16., 13.],\n",
       "         [ 9., 24., 34., ..., 19.,  6., 12.],\n",
       "         ...,\n",
       "         [17., 15., 15., ..., 21., 15., 15.],\n",
       "         [24., 17., 24., ..., 23., 25., 20.],\n",
       "         [24., 18., 15., ..., 34., 18.,  7.]]],\n",
       "\n",
       "\n",
       "       [[[19., 37.,  7., ..., 15., 26., 33.],\n",
       "         [20., 30., 14., ..., 23., 18., 28.],\n",
       "         [29.,  2., 24., ..., 25., 37., 24.],\n",
       "         ...,\n",
       "         [28., 11., 19., ..., 13., 24., 16.],\n",
       "         [15., 29., 18., ..., 24., 11., 13.],\n",
       "         [12., 23., 22., ..., 19., 24., 20.]],\n",
       "\n",
       "        [[13.,  5., 34., ..., 21., 34., 19.],\n",
       "         [ 8., 18., 41., ...,  5., 16., 14.],\n",
       "         [26.,  4., 26., ..., 12., 19., 18.],\n",
       "         ...,\n",
       "         [31., 11., 20., ...,  8., 19., 20.],\n",
       "         [19., 21., 28., ..., 11., 14., 18.],\n",
       "         [26., 47., 32., ..., 13., 21., 23.]],\n",
       "\n",
       "        [[13., 26., 12., ..., 24., 12., 19.],\n",
       "         [52., 19., 14., ..., 26., 31., 24.],\n",
       "         [22., 34., 21., ..., 37., 15., 18.],\n",
       "         ...,\n",
       "         [15., 13., 11., ..., 33., 23., 22.],\n",
       "         [14., 28., 21., ..., 30., 17., 18.],\n",
       "         [ 8.,  8., 13., ..., 18., 24., 20.]],\n",
       "\n",
       "        ...,\n",
       "\n",
       "        [[ 8.,  5.,  5., ..., 13., 19., 27.],\n",
       "         [19., 12., 16., ..., 43.,  9.,  9.],\n",
       "         [15., 30., 21., ..., 25., 15., 29.],\n",
       "         ...,\n",
       "         [18., 15., 24., ..., 31.,  9., 12.],\n",
       "         [19., 24.,  6., ..., 14., 24., 28.],\n",
       "         [ 6., 22., 31., ..., 18., 18.,  9.]],\n",
       "\n",
       "        [[11., 11.,  8., ..., 44.,  7., 35.],\n",
       "         [ 4., 31.,  2., ..., 11., 23., 15.],\n",
       "         [ 6., 21., 20., ...,  7.,  2., 35.],\n",
       "         ...,\n",
       "         [28., 16., 13., ..., 35., 22., 21.],\n",
       "         [18., 17., 27., ..., 28., 28.,  6.],\n",
       "         [39., 19., 38., ..., 20., 24., 23.]],\n",
       "\n",
       "        [[42., 21.,  7., ...,  7., 17., 24.],\n",
       "         [14.,  4., 11., ...,  9., 34., 27.],\n",
       "         [17.,  5., 33., ..., 28., 18., 32.],\n",
       "         ...,\n",
       "         [34., 21., 17., ..., 10., 13., 19.],\n",
       "         [28., 12., 31., ..., 30.,  4.,  5.],\n",
       "         [23., 15., 22., ..., 13., 11., 21.]]],\n",
       "\n",
       "\n",
       "       [[[18., 12., 14., ..., 18., 17., 14.],\n",
       "         [14., 45., 24., ..., 34.,  1., 21.],\n",
       "         [16.,  4., 32., ..., 30., 15., 19.],\n",
       "         ...,\n",
       "         [28., 26., 13., ..., 32., 22., 18.],\n",
       "         [30., 17., 23., ..., 20., 13., 13.],\n",
       "         [24., 22., 13., ..., 14., 38., 10.]],\n",
       "\n",
       "        [[22., 15., 19., ...,  4., 18., 14.],\n",
       "         [ 4., 16., 12., ..., 24., 12., 21.],\n",
       "         [15.,  6., 25., ..., 35., 22., 25.],\n",
       "         ...,\n",
       "         [27., 19., 16., ..., 26., 17., 15.],\n",
       "         [31., 12., 27., ..., 26., 17.,  9.],\n",
       "         [35.,  9.,  9., ..., 15., 26.,  9.]],\n",
       "\n",
       "        [[20., 19., 18., ..., 36., 40., 15.],\n",
       "         [30., 24., 28., ..., 20., 19., 31.],\n",
       "         [20., 40., 16., ..., 34., 17.,  3.],\n",
       "         ...,\n",
       "         [14., 20.,  8., ..., 22., 21., 30.],\n",
       "         [22., 16., 21., ..., 13., 11., 17.],\n",
       "         [21., 29., 17., ..., 10., 36., 19.]],\n",
       "\n",
       "        ...,\n",
       "\n",
       "        [[16., 33.,  8., ..., 14., 23., 10.],\n",
       "         [21.,  7., 23., ...,  9.,  2., 21.],\n",
       "         [18., 14., 18., ...,  7.,  5., 24.],\n",
       "         ...,\n",
       "         [14., 21., 28., ..., 14., 29., 23.],\n",
       "         [34., 34., 26., ..., 13.,  8., 28.],\n",
       "         [12., 23., 22., ..., 14.,  8., 25.]],\n",
       "\n",
       "        [[16., 20., 21., ..., 33., 39., 12.],\n",
       "         [30., 10., 16., ..., 13., 21., 48.],\n",
       "         [17., 22., 29., ..., 34.,  8., 17.],\n",
       "         ...,\n",
       "         [22., 26., 15., ..., 33., 19.,  4.],\n",
       "         [ 4., 10., 15., ...,  8.,  9., 28.],\n",
       "         [20.,  6.,  3., ..., 19., 13., 21.]],\n",
       "\n",
       "        [[27., 15.,  5., ..., 16., 19., 19.],\n",
       "         [30., 18., 13., ...,  3., 11., 16.],\n",
       "         [33., 13.,  7., ..., 10., 24., 41.],\n",
       "         ...,\n",
       "         [23., 26., 24., ..., 33.,  1., 10.],\n",
       "         [20., 10., 27., ..., 19., 17., 21.],\n",
       "         [ 6., 22., 12., ..., 33., 13.,  9.]]]])"
      ]
     },
     "execution_count": 7,
     "metadata": {},
     "output_type": "execute_result"
    }
   ],
   "source": [
    "img_data = img.get_fdata()\n",
    "img_data"
   ]
  },
  {
   "cell_type": "markdown",
   "id": "403cc2d9",
   "metadata": {},
   "source": [
    "The image is a NumPy array representing each pixel"
   ]
  },
  {
   "cell_type": "code",
   "execution_count": 8,
   "id": "5fe38732",
   "metadata": {},
   "outputs": [
    {
     "data": {
      "text/plain": [
       "numpy.ndarray"
      ]
     },
     "execution_count": 8,
     "metadata": {},
     "output_type": "execute_result"
    }
   ],
   "source": [
    "type(img_data)"
   ]
  },
  {
   "cell_type": "markdown",
   "id": "e4751188",
   "metadata": {},
   "source": [
    "The array has four dimensions: x, y, z, and time"
   ]
  },
  {
   "cell_type": "code",
   "execution_count": 9,
   "id": "a9bbb28a",
   "metadata": {},
   "outputs": [
    {
     "data": {
      "text/plain": [
       "4"
      ]
     },
     "execution_count": 9,
     "metadata": {},
     "output_type": "execute_result"
    }
   ],
   "source": [
    "img_data.ndim"
   ]
  },
  {
   "cell_type": "markdown",
   "id": "5b3c946f",
   "metadata": {},
   "source": [
    "These are the dimensions of the image"
   ]
  },
  {
   "cell_type": "code",
   "execution_count": 10,
   "id": "dadf9217",
   "metadata": {},
   "outputs": [
    {
     "data": {
      "text/plain": [
       "(64, 64, 35, 251)"
      ]
     },
     "execution_count": 10,
     "metadata": {},
     "output_type": "execute_result"
    }
   ],
   "source": [
    "img_data.shape"
   ]
  },
  {
   "cell_type": "markdown",
   "id": "cfaea57a",
   "metadata": {},
   "source": [
    "Each element in the NumPy array is a float"
   ]
  },
  {
   "cell_type": "code",
   "execution_count": 11,
   "id": "32d337b6",
   "metadata": {},
   "outputs": [
    {
     "data": {
      "text/plain": [
       "dtype('float64')"
      ]
     },
     "execution_count": 11,
     "metadata": {},
     "output_type": "execute_result"
    }
   ],
   "source": [
    "img_data.dtype"
   ]
  },
  {
   "cell_type": "markdown",
   "id": "72807532",
   "metadata": {},
   "source": [
    "Determine the range of the image"
   ]
  },
  {
   "cell_type": "code",
   "execution_count": 14,
   "id": "0e410f53",
   "metadata": {},
   "outputs": [
    {
     "name": "stdout",
     "output_type": "stream",
     "text": [
      "Min 0.0\n",
      "Max 1857.0\n"
     ]
    }
   ],
   "source": [
    "import numpy as np\n",
    "print('Min', np.min(img_data))\n",
    "print('Max', np.max(img_data))"
   ]
  },
  {
   "cell_type": "markdown",
   "id": "f5b48246",
   "metadata": {},
   "source": [
    "Can inspect an single voxel at coordinate (10,20,3) with time = 0 with the following"
   ]
  },
  {
   "cell_type": "code",
   "execution_count": 17,
   "id": "710df0d3",
   "metadata": {},
   "outputs": [
    {
     "data": {
      "text/plain": [
       "96.0"
      ]
     },
     "execution_count": 17,
     "metadata": {},
     "output_type": "execute_result"
    }
   ],
   "source": [
    "img_data[9,19,2,0]"
   ]
  },
  {
   "cell_type": "markdown",
   "id": "7a709c2d",
   "metadata": {},
   "source": [
    "## Working with Image Data\n",
    "\n",
    "Can select a single plane by slicing the matrix"
   ]
  },
  {
   "cell_type": "code",
   "execution_count": 19,
   "id": "754c2a8c",
   "metadata": {},
   "outputs": [
    {
     "data": {
      "text/plain": [
       "array([[ 49.,  87.,  44., ...,   4.,  24.,  21.],\n",
       "       [ 18.,  37.,  18., ...,   6.,  25.,   5.],\n",
       "       [ 19.,  52.,  14., ...,  11.,  19.,  32.],\n",
       "       ...,\n",
       "       [135., 109.,  78., ...,  11.,  34.,  33.],\n",
       "       [114., 105.,  72., ...,  21.,  24.,  10.],\n",
       "       [ 95., 100.,  68., ...,  16.,  26.,  13.]])"
      ]
     },
     "execution_count": 19,
     "metadata": {},
     "output_type": "execute_result"
    }
   ],
   "source": [
    "x_slice = img_data[9,:,:,0]\n",
    "x_slice"
   ]
  },
  {
   "cell_type": "code",
   "execution_count": 20,
   "id": "1574493b",
   "metadata": {},
   "outputs": [
    {
     "data": {
      "text/plain": [
       "array([[ 0.,  0.,  0., ...,  0.,  0.,  0.],\n",
       "       [20.,  9., 14., ..., 19.,  8.,  4.],\n",
       "       [26., 33.,  4., ..., 24., 17., 25.],\n",
       "       ...,\n",
       "       [39., 20., 33., ..., 11., 25., 17.],\n",
       "       [22., 33., 22., ...,  7., 13., 23.],\n",
       "       [12., 24., 32., ..., 14., 11., 38.]])"
      ]
     },
     "execution_count": 20,
     "metadata": {},
     "output_type": "execute_result"
    }
   ],
   "source": [
    "y_slice = img_data[:,19,:,0]\n",
    "y_slice"
   ]
  },
  {
   "cell_type": "code",
   "execution_count": 21,
   "id": "5fa427f4",
   "metadata": {},
   "outputs": [
    {
     "data": {
      "text/plain": [
       "array([[ 0.,  0.,  0., ...,  0.,  0.,  0.],\n",
       "       [20., 13.,  7., ..., 31., 12., 11.],\n",
       "       [11., 17., 10., ..., 21., 16., 30.],\n",
       "       ...,\n",
       "       [21., 30., 25., ..., 11., 33.,  9.],\n",
       "       [29., 26., 22., ..., 15.,  6., 17.],\n",
       "       [16., 15., 20., ..., 18., 17., 33.]])"
      ]
     },
     "execution_count": 21,
     "metadata": {},
     "output_type": "execute_result"
    }
   ],
   "source": [
    "z_slice = img_data[:,:,2,0]\n",
    "z_slice"
   ]
  },
  {
   "cell_type": "markdown",
   "id": "cdcfc0b3",
   "metadata": {},
   "source": [
    "## Visualizing data\n",
    "\n",
    "View the slices on a graph that is easier to understand\n",
    "\n",
    "Use `matplotlib.pyplot` to display the images in the notebook"
   ]
  },
  {
   "cell_type": "code",
   "execution_count": 22,
   "id": "22362dd1",
   "metadata": {},
   "outputs": [
    {
     "data": {
      "image/png": "[encoded data removed]",
      "text/plain": [
       "<Figure size 640x480 with 3 Axes>"
      ]
     },
     "metadata": {},
     "output_type": "display_data"
    }
   ],
   "source": [
    "import matplotlib.pyplot as plt\n",
    "%matplotlib inline\n",
    "\n",
    "slices = [x_slice, y_slice, z_slice]\n",
    "\n",
    "fig, axes = plt.subplots(1, len(slices))\n",
    "for i, slice in enumerate(slices):\n",
    "    axes[i].imshow(slice.T, cmap='gray', origin='lower')"
   ]
  },
  {
   "cell_type": "markdown",
   "id": "7f314f86",
   "metadata": {},
   "source": [
    "## Afine\n",
    "\n",
    "Tells position of image array data in a reference to space. Affine matrix translates voxel cooredinates to world space coordinates."
   ]
  },
  {
   "cell_type": "code",
   "execution_count": 23,
   "id": "cf19d333",
   "metadata": {},
   "outputs": [
    {
     "data": {
      "text/plain": [
       "array([[ -3.        ,  -0.        ,  -0.        ,  96.66491699],\n",
       "       [ -0.        ,   3.        ,  -0.        , -58.08340454],\n",
       "       [  0.        ,   0.        ,   3.        , -16.50470924],\n",
       "       [  0.        ,   0.        ,   0.        ,   1.        ]])"
      ]
     },
     "execution_count": 23,
     "metadata": {},
     "output_type": "execute_result"
    }
   ],
   "source": [
    "img.affine"
   ]
  }
 ],
 "metadata": {
  "kernelspec": {
   "display_name": "Python 3 (ipykernel)",
   "language": "python",
   "name": "python3"
  },
  "language_info": {
   "codemirror_mode": {
    "name": "ipython",
    "version": 3
   },
   "file_extension": ".py",
   "mimetype": "text/x-python",
   "name": "python",
   "nbconvert_exporter": "python",
   "pygments_lexer": "ipython3",
   "version": "3.10.0"
  }
 },
 "nbformat": 4,
 "nbformat_minor": 5
}
