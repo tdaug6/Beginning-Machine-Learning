{
 "cells": [
  {
   "cell_type": "markdown",
   "id": "6636286c",
   "metadata": {},
   "source": [
    "# Linear Regression Through W3Schools.com\n",
    "\n",
    "Linear regression finds best linear relationship to represent data-points\n",
    "\n",
    "This code was created by following a tutorial on w3schools.com. The link to the tutorial can be found below:\n",
    "\n",
    "https://www.w3schools.com/python/python_ml_linear_regression.asp"
   ]
  },
  {
   "cell_type": "markdown",
   "id": "cbec1d99",
   "metadata": {},
   "source": [
    "## Process"
   ]
  },
  {
   "cell_type": "markdown",
   "id": "c811bd11",
   "metadata": {},
   "source": [
    "### Import necessary libraries\n",
    "\n",
    "`Matplotlib.pyplot` for visualizing data\n",
    "\n",
    "`scipy.stats` for the linear regression algorithm"
   ]
  },
  {
   "cell_type": "code",
   "execution_count": 1,
   "id": "0682b2ba",
   "metadata": {},
   "outputs": [],
   "source": [
    "import matplotlib.pyplot as plt\n",
    "from scipy import stats"
   ]
  },
  {
   "cell_type": "markdown",
   "id": "61809d5a",
   "metadata": {},
   "source": [
    "### Create arrays that represent x and y\n",
    "\n",
    "`x` is representing car age\n",
    "\n",
    "`y` is representing car speed"
   ]
  },
  {
   "cell_type": "code",
   "execution_count": 2,
   "id": "74d4ca9d",
   "metadata": {},
   "outputs": [],
   "source": [
    "x = [5,7,8,7,2,17,2,9,4,11,12,9,6]\n",
    "y = [99,86,87,88,111,86,103,87,94,78,77,85,86]"
   ]
  },
  {
   "cell_type": "markdown",
   "id": "8ae132ab",
   "metadata": {},
   "source": [
    "### Run method that returns import values for Linear regression\n",
    "\n",
    "`slope` is the slope of the line made from linear regression\n",
    "\n",
    "`intercept` is the intercept of the line\n",
    "\n",
    "`r` is the R-value for the graph (how well the line fits the data points"
   ]
  },
  {
   "cell_type": "code",
   "execution_count": 3,
   "id": "ab38cb26",
   "metadata": {},
   "outputs": [],
   "source": [
    "slope, intercept, r, p, std_err = stats.linregress(x,y)"
   ]
  },
  {
   "cell_type": "markdown",
   "id": "b0e6d34a",
   "metadata": {},
   "source": [
    "### Create a function\n",
    "\n",
    "Intended to calculate predicted value using slope and intercept"
   ]
  },
  {
   "cell_type": "code",
   "execution_count": 5,
   "id": "38a8c1ec",
   "metadata": {},
   "outputs": [],
   "source": [
    "def predict_speed(x):\n",
    "    return slope*x + intercept"
   ]
  },
  {
   "cell_type": "markdown",
   "id": "c88747a7",
   "metadata": {},
   "source": [
    "### Use function to fill a list of predicted\n",
    "\n",
    "This will predict the speed of the car based on the given `x` (age) value"
   ]
  },
  {
   "cell_type": "code",
   "execution_count": 7,
   "id": "8b49fbb3",
   "metadata": {},
   "outputs": [],
   "source": [
    "predicted_speeds = list(map(predict_speed,x))"
   ]
  },
  {
   "cell_type": "markdown",
   "id": "40f91d0e",
   "metadata": {},
   "source": [
    "### Visualize model"
   ]
  },
  {
   "cell_type": "code",
   "execution_count": 15,
   "id": "e1a55431",
   "metadata": {},
   "outputs": [
    {
     "data": {
      "image/png": "[encoded data removed]",
      "text/plain": [
       "<Figure size 640x480 with 1 Axes>"
      ]
     },
     "metadata": {},
     "output_type": "display_data"
    }
   ],
   "source": [
    "plt.scatter(x,y) # Display scatterplot of points\n",
    "plt.plot(x, predicted_speeds) # Display the line from linear regression\n",
    "\n",
    "plt.xlabel('Car Age (yrs)')\n",
    "plt.ylabel('Speed (mph)')\n",
    "plt.title('Speed vs. Car Age')\n",
    "plt.show()"
   ]
  },
  {
   "cell_type": "markdown",
   "id": "9318c655",
   "metadata": {},
   "source": [
    "### Evaluate accuracy\n",
    "\n",
    "The coefficient of correlation (`r`) represents how well the line represents the points\n",
    "\n",
    "Values closer to -1 or 1 indicates strong relationship between x and y"
   ]
  },
  {
   "cell_type": "code",
   "execution_count": 9,
   "id": "bab5c906",
   "metadata": {},
   "outputs": [
    {
     "name": "stdout",
     "output_type": "stream",
     "text": [
      "Coeficient of Correlation -0.758591524376155\n"
     ]
    }
   ],
   "source": [
    "print('Coeficient of Correlation',r)"
   ]
  },
  {
   "cell_type": "markdown",
   "id": "2a318ff6",
   "metadata": {},
   "source": [
    "## Predict Future Values\n",
    "\n",
    "Use the model to predict the value of a new `x` (car age) value"
   ]
  },
  {
   "cell_type": "code",
   "execution_count": 16,
   "id": "52685143",
   "metadata": {},
   "outputs": [
    {
     "data": {
      "text/plain": [
       "85.59308314937454"
      ]
     },
     "execution_count": 16,
     "metadata": {},
     "output_type": "execute_result"
    }
   ],
   "source": [
    "speed = myfunc(10)\n",
    "speed"
   ]
  },
  {
   "cell_type": "markdown",
   "id": "c79026de",
   "metadata": {},
   "source": [
    "## Example Model with Bad Fit\n",
    "\n",
    "This is a case where linear regression would not be a good predictor"
   ]
  },
  {
   "cell_type": "markdown",
   "id": "2172c9a9",
   "metadata": {},
   "source": [
    "### Import necessary libraries\n",
    "\n",
    "`matplotlib.pyplot` is used for data visualization\n",
    "\n",
    "`scipy.stats` is used for linear regression"
   ]
  },
  {
   "cell_type": "code",
   "execution_count": 17,
   "id": "6d379a34",
   "metadata": {},
   "outputs": [],
   "source": [
    "import matplotlib.pyplot\n",
    "from scipy import stats"
   ]
  },
  {
   "cell_type": "markdown",
   "id": "61e6af07",
   "metadata": {},
   "source": [
    "### Create arrays containing points"
   ]
  },
  {
   "cell_type": "code",
   "execution_count": 18,
   "id": "6d9a2681",
   "metadata": {},
   "outputs": [],
   "source": [
    "x = [89,43,36,36,95,10,66,34,38,20,26,29,48,64,6,5,36,66,72,40]\n",
    "y = [21,46,3,35,67,95,53,72,58,10,26,34,90,33,38,20,56,2,47,15]"
   ]
  },
  {
   "cell_type": "markdown",
   "id": "f3c7052a",
   "metadata": {},
   "source": [
    "### Create linear regression model\n",
    "\n",
    "`slope` is used the slope of the line\n",
    "\n",
    "`intercept` is the intercept of the linear regression line"
   ]
  },
  {
   "cell_type": "code",
   "execution_count": 21,
   "id": "80c66afb",
   "metadata": {},
   "outputs": [],
   "source": [
    "slope, intercept, r, p, std_err = stats.linregress(x,y)"
   ]
  },
  {
   "cell_type": "markdown",
   "id": "dbd18637",
   "metadata": {},
   "source": [
    "### Create function to predict y from x"
   ]
  },
  {
   "cell_type": "code",
   "execution_count": 27,
   "id": "880a31a2",
   "metadata": {},
   "outputs": [],
   "source": [
    "def predict_y(x):\n",
    "    return slope*x + intercept"
   ]
  },
  {
   "cell_type": "markdown",
   "id": "77d23da8",
   "metadata": {},
   "source": [
    "### Generate predictions for x values"
   ]
  },
  {
   "cell_type": "code",
   "execution_count": 28,
   "id": "dce5c767",
   "metadata": {},
   "outputs": [],
   "source": [
    "y_predictions = list(map(predict_y,x))"
   ]
  },
  {
   "cell_type": "markdown",
   "id": "9c99f765",
   "metadata": {},
   "source": [
    "### Visualize points and linear regression line"
   ]
  },
  {
   "cell_type": "code",
   "execution_count": 29,
   "id": "f4b67b45",
   "metadata": {},
   "outputs": [
    {
     "data": {
      "image/png": "[encoded data removed]",
      "text/plain": [
       "<Figure size 640x480 with 1 Axes>"
      ]
     },
     "metadata": {},
     "output_type": "display_data"
    }
   ],
   "source": [
    "plt.scatter(x,y)\n",
    "plt.plot(x,y_predictions)\n",
    "\n",
    "plt.show()"
   ]
  },
  {
   "cell_type": "markdown",
   "id": "83e58a91",
   "metadata": {},
   "source": [
    "### Evaluate correlation\n",
    "\n",
    "Use `r` to evaluate the accuracy of the model"
   ]
  },
  {
   "cell_type": "code",
   "execution_count": 30,
   "id": "a5fed43f",
   "metadata": {},
   "outputs": [
    {
     "name": "stdout",
     "output_type": "stream",
     "text": [
      "Coefficient of Correlation 0.01331814154297491\n"
     ]
    }
   ],
   "source": [
    "print('Coefficient of Correlation',r)"
   ]
  }
 ],
 "metadata": {
  "kernelspec": {
   "display_name": "Python 3 (ipykernel)",
   "language": "python",
   "name": "python3"
  },
  "language_info": {
   "codemirror_mode": {
    "name": "ipython",
    "version": 3
   },
   "file_extension": ".py",
   "mimetype": "text/x-python",
   "name": "python",
   "nbconvert_exporter": "python",
   "pygments_lexer": "ipython3",
   "version": "3.10.0"
  }
 },
 "nbformat": 4,
 "nbformat_minor": 5
}
