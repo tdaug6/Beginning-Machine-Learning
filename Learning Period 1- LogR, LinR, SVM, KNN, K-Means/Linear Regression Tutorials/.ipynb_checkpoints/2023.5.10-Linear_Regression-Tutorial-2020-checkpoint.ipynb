{
 "cells": [
  {
   "cell_type": "markdown",
   "id": "900bce08",
   "metadata": {},
   "source": [
    "# Linear Regression Tutorial\n",
    "\n",
    "Create a linear regression model\n",
    "\n",
    "This code was created by following a tutorial from statology.org. The link to the tutorial can be found below:\n",
    "\n",
    "https://www.statology.org/plot-roc-curve-python/"
   ]
  },
  {
   "cell_type": "markdown",
   "id": "b23cbb38",
   "metadata": {},
   "source": [
    "## Step 1: Import Packages\n",
    "\n",
    "Import packages necessary to perform logistic regression\n"
   ]
  },
  {
   "cell_type": "code",
   "execution_count": 2,
   "id": "2a4fb6ba",
   "metadata": {},
   "outputs": [],
   "source": [
    "import pandas as pd\n",
    "import numpy as np\n",
    "from sklearn.model_selection import train_test_split\n",
    "from sklearn.linear_model import LogisticRegression\n",
    "from sklearn import metrics\n",
    "import matplotlib.pyplot as plt"
   ]
  },
  {
   "cell_type": "markdown",
   "id": "5b026749",
   "metadata": {},
   "source": [
    "## Step 2: Load the Data\n",
    "\n",
    "Using default dataset from a book."
   ]
  },
  {
   "cell_type": "code",
   "execution_count": 6,
   "id": "e20b422c",
   "metadata": {},
   "outputs": [
    {
     "name": "stdout",
     "output_type": "stream",
     "text": [
      "   default  student      balance        income\n",
      "0        0        0   729.526495  44361.625074\n",
      "1        0        1   817.180407  12106.134700\n",
      "2        0        0  1073.549164  31767.138947\n",
      "3        0        0   529.250605  35704.493935\n",
      "4        0        0   785.655883  38463.495879\n",
      "5        0        1   919.588530   7491.558572\n"
     ]
    }
   ],
   "source": [
    "url = \"https://raw.githubusercontent.com/Statology/Python-Guides/main/default.csv\"\n",
    "data = pd.read_csv(url)\n",
    "\n",
    "# View first couple of rows of data\n",
    "print(data[0:6])"
   ]
  },
  {
   "cell_type": "code",
   "execution_count": 7,
   "id": "0f077d9c",
   "metadata": {},
   "outputs": [
    {
     "data": {
      "text/plain": [
       "10000"
      ]
     },
     "execution_count": 7,
     "metadata": {},
     "output_type": "execute_result"
    }
   ],
   "source": [
    "# Find total observations in dataset\n",
    "len(data.index)"
   ]
  },
  {
   "cell_type": "markdown",
   "id": "57c022f0",
   "metadata": {},
   "source": [
    "## Step 3: Create Training and Test Samples\n",
    "\n",
    "Splitting the data into training (70%) and testing (30%) sets"
   ]
  },
  {
   "cell_type": "code",
   "execution_count": 8,
   "id": "fe7b9a02",
   "metadata": {},
   "outputs": [],
   "source": [
    "# Define predictor variables and response variable\n",
    "X = data[['student','balance','income']]\n",
    "y = data['default']\n",
    "\n",
    "# split dataset into training and testing sets\n",
    "X_train, X_test, y_train, y_test = train_test_split(X, y, test_size=0.3, random_state=0)"
   ]
  },
  {
   "cell_type": "markdown",
   "id": "9c0cb0e2",
   "metadata": {},
   "source": [
    "## Step 4: Fit the Logistic Regression Model\n",
    "\n",
    "Use built in function to fit logistic regression model to the dataset"
   ]
  },
  {
   "cell_type": "code",
   "execution_count": 10,
   "id": "e52e02e9",
   "metadata": {},
   "outputs": [],
   "source": [
    "# instantiate model\n",
    "lr = LogisticRegression()\n",
    "\n",
    "# fit model using training data\n",
    "lr.fit(X_train, y_train)\n",
    "\n",
    "# use model to make predictions on test data\n",
    "y_pred = lr.predict(X_test)"
   ]
  },
  {
   "cell_type": "markdown",
   "id": "a5dd19f2",
   "metadata": {},
   "source": [
    "## Step 5: Model Diagnostics\n",
    "\n",
    "Analyze how well model performs on test dataset\n"
   ]
  },
  {
   "cell_type": "markdown",
   "id": "282845c7",
   "metadata": {},
   "source": [
    "\n",
    "**1.** Create confusion matrix for model\n"
   ]
  },
  {
   "cell_type": "code",
   "execution_count": 14,
   "id": "d4e5404a",
   "metadata": {},
   "outputs": [
    {
     "name": "stdout",
     "output_type": "stream",
     "text": [
      "True positive predictions:  2870\n",
      "True negative predictions:  20\n",
      "False positive predictions:  93\n",
      "False negative predictions:  17\n"
     ]
    }
   ],
   "source": [
    "cnf_matrix = metrics.confusion_matrix(y_test, y_pred)\n",
    "cnf_matrix\n",
    "\n",
    "print(\"True positive predictions: \",cnf_matrix[0,0])\n",
    "print(\"True negative predictions: \",cnf_matrix[1,1])\n",
    "print(\"False positive predictions: \",cnf_matrix[1,0])\n",
    "print(\"False negative predictions: \",cnf_matrix[0,1])"
   ]
  },
  {
   "cell_type": "markdown",
   "id": "b7a8d31c",
   "metadata": {},
   "source": [
    "\n",
    "**2.** Obtain accuracy of model\n"
   ]
  },
  {
   "cell_type": "code",
   "execution_count": 19,
   "id": "d3f215a1",
   "metadata": {},
   "outputs": [
    {
     "name": "stdout",
     "output_type": "stream",
     "text": [
      "Accuracy: 0.963\n"
     ]
    }
   ],
   "source": [
    "print(\"Accuracy: {:.3f}\".format(metrics.accuracy_score(y_test, y_pred)))"
   ]
  },
  {
   "cell_type": "markdown",
   "id": "642629cc",
   "metadata": {},
   "source": [
    "\n",
    "**3.** Plot percentage of true positives predicted by the model\n",
    "\n",
    "More accurate model has more area under the curve"
   ]
  },
  {
   "cell_type": "code",
   "execution_count": 21,
   "id": "fd67b056",
   "metadata": {},
   "outputs": [
    {
     "data": {
      "image/png": "[encoded data removed]",
      "text/plain": [
       "<Figure size 640x480 with 1 Axes>"
      ]
     },
     "metadata": {},
     "output_type": "display_data"
    }
   ],
   "source": [
    "# define metrics\n",
    "y_pred_proba = lr.predict_proba(X_test)[::,1]\n",
    "fpr, tpr, _ = metrics.roc_curve(y_test, y_pred_proba)\n",
    "auc = metrics.roc_auc_score(y_test, y_pred_proba)\n",
    "\n",
    "# Create curve\n",
    "plt.plot(fpr, tpr, label=\"AUC=\"+str(auc))\n",
    "plt.legend(loc=4)\n",
    "plt.show()"
   ]
  }
 ],
 "metadata": {
  "kernelspec": {
   "display_name": "Python 3 (ipykernel)",
   "language": "python",
   "name": "python3"
  },
  "language_info": {
   "codemirror_mode": {
    "name": "ipython",
    "version": 3
   },
   "file_extension": ".py",
   "mimetype": "text/x-python",
   "name": "python",
   "nbconvert_exporter": "python",
   "pygments_lexer": "ipython3",
   "version": "3.10.0"
  }
 },
 "nbformat": 4,
 "nbformat_minor": 5
}
