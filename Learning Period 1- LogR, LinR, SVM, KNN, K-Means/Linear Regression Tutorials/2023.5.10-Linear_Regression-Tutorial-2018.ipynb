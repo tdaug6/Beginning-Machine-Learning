{
 "cells": [
  {
   "cell_type": "markdown",
   "id": "2cabe06e",
   "metadata": {},
   "source": [
    "# Intro to Linear Regression\n",
    "\n",
    "This will walk through two ways of modeling linear regression\n",
    "1. Using scikit learn library\n",
    "2. Built from scratch"
   ]
  },
  {
   "cell_type": "markdown",
   "id": "8fbfa20b",
   "metadata": {},
   "source": [
    "## Using libraries\n",
    "\n",
    "Easier method of building linear regression model"
   ]
  },
  {
   "cell_type": "markdown",
   "id": "c166953f",
   "metadata": {},
   "source": [
    "**1.** Import libraries"
   ]
  },
  {
   "cell_type": "code",
   "execution_count": 2,
   "id": "30db2f8f",
   "metadata": {},
   "outputs": [],
   "source": [
    "import pandas as pd\n",
    "import numpy as np\n",
    "from sklearn.linear_model import LinearRegression \n",
    "from sklearn.metrics import r2_score"
   ]
  },
  {
   "cell_type": "markdown",
   "id": "e9317c19",
   "metadata": {},
   "source": [
    "**2.** Load train and test files"
   ]
  },
  {
   "cell_type": "code",
   "execution_count": 3,
   "id": "e93501fa",
   "metadata": {},
   "outputs": [],
   "source": [
    "df_train = pd.read_csv('Linear_Regression/train.csv')\n",
    "df_test = pd.read_csv('Linear_Regression/test.csv')"
   ]
  },
  {
   "cell_type": "markdown",
   "id": "181e3b99",
   "metadata": {},
   "source": [
    "\n",
    "**3.** Separate the arrays information from the files into meaninful arrays"
   ]
  },
  {
   "cell_type": "code",
   "execution_count": 4,
   "id": "7530d1ec",
   "metadata": {},
   "outputs": [],
   "source": [
    "x_train = df_train['x']\n",
    "y_train = df_train['y']\n",
    "\n",
    "x_test = df_test['x']\n",
    "y_test = df_test['y']"
   ]
  },
  {
   "cell_type": "markdown",
   "id": "b00e960f",
   "metadata": {},
   "source": [
    "\n",
    "**4.** Convert these to NumPy arrays for evaluations"
   ]
  },
  {
   "cell_type": "code",
   "execution_count": 5,
   "id": "c2ae0a41",
   "metadata": {},
   "outputs": [],
   "source": [
    "x_train = np.array(x_train)\n",
    "y_train = np.array(y_train)\n",
    "\n",
    "x_test = np.array(x_test)\n",
    "y_test = np.array(y_test)"
   ]
  },
  {
   "cell_type": "markdown",
   "id": "2e06a264",
   "metadata": {},
   "source": [
    "**5.** Reshape the arrays to be able to feed data into the linear regression model"
   ]
  },
  {
   "cell_type": "code",
   "execution_count": 6,
   "id": "46f60dca",
   "metadata": {},
   "outputs": [],
   "source": [
    "x_train = x_train.reshape(-1,1)\n",
    "x_test = x_test.reshape(-1,1)"
   ]
  },
  {
   "cell_type": "markdown",
   "id": "9ade0941",
   "metadata": {},
   "source": [
    "\n",
    "**6.** Train the model using the training set"
   ]
  },
  {
   "cell_type": "code",
   "execution_count": 7,
   "id": "91eec3f6",
   "metadata": {},
   "outputs": [],
   "source": [
    "# clf = LinearRegression(normalize=True)\n",
    "# clf.fit(x_train,y_train)"
   ]
  },
  {
   "cell_type": "markdown",
   "id": "ac73ffd8",
   "metadata": {},
   "source": [
    "This code was created by following a tutorial from 2018. There is currently no normalize parameter for the LinearRegression constructor"
   ]
  },
  {
   "cell_type": "markdown",
   "id": "ea129696",
   "metadata": {},
   "source": [
    "## Built Model\n",
    "\n",
    "Created using NumPy and minimizing several cost summation equations\n"
   ]
  },
  {
   "cell_type": "markdown",
   "id": "d231d4fb",
   "metadata": {},
   "source": [
    "**1.** Import numpy"
   ]
  },
  {
   "cell_type": "code",
   "execution_count": 8,
   "id": "3cbc61c5",
   "metadata": {},
   "outputs": [],
   "source": [
    "import numpy as np"
   ]
  },
  {
   "cell_type": "markdown",
   "id": "3329b8cc",
   "metadata": {},
   "source": [
    "\n",
    "**2.** Create constants that will be used in calculations"
   ]
  },
  {
   "cell_type": "code",
   "execution_count": 9,
   "id": "1e4f5833",
   "metadata": {},
   "outputs": [],
   "source": [
    "n = 700\n",
    "alpha = 0.0001"
   ]
  },
  {
   "cell_type": "markdown",
   "id": "5717a2b9",
   "metadata": {},
   "source": [
    "**3.** Create empty arrays to store values of a0 and a1"
   ]
  },
  {
   "cell_type": "code",
   "execution_count": 10,
   "id": "776cf067",
   "metadata": {},
   "outputs": [],
   "source": [
    "a_0 = np.zeros((n,1))\n",
    "a_1 = np.zeros((n,1))"
   ]
  },
  {
   "cell_type": "markdown",
   "id": "ee33cff4",
   "metadata": {},
   "source": [
    "\n",
    "**4.** Run summation calculate the cost and update the values of a_0 and a_1"
   ]
  },
  {
   "cell_type": "code",
   "execution_count": 11,
   "id": "9a8d394a",
   "metadata": {
    "scrolled": true
   },
   "outputs": [
    {
     "name": "stdout",
     "output_type": "stream",
     "text": [
      "nan\n",
      "nan\n",
      "nan\n",
      "nan\n",
      "nan\n",
      "nan\n",
      "nan\n",
      "nan\n",
      "nan\n",
      "nan\n",
      "nan\n",
      "nan\n",
      "nan\n",
      "nan\n",
      "nan\n",
      "nan\n",
      "nan\n",
      "nan\n",
      "nan\n",
      "nan\n",
      "nan\n",
      "nan\n",
      "nan\n",
      "nan\n",
      "nan\n",
      "nan\n",
      "nan\n",
      "nan\n",
      "nan\n",
      "nan\n",
      "nan\n",
      "nan\n",
      "nan\n",
      "nan\n",
      "nan\n",
      "nan\n",
      "nan\n",
      "nan\n",
      "nan\n",
      "nan\n",
      "nan\n",
      "nan\n",
      "nan\n",
      "nan\n",
      "nan\n",
      "nan\n",
      "nan\n",
      "nan\n",
      "nan\n",
      "nan\n",
      "nan\n",
      "nan\n",
      "nan\n",
      "nan\n",
      "nan\n",
      "nan\n",
      "nan\n",
      "nan\n",
      "nan\n",
      "nan\n",
      "nan\n",
      "nan\n",
      "nan\n",
      "nan\n",
      "nan\n",
      "nan\n",
      "nan\n",
      "nan\n",
      "nan\n",
      "nan\n",
      "nan\n",
      "nan\n",
      "nan\n",
      "nan\n",
      "nan\n",
      "nan\n",
      "nan\n",
      "nan\n",
      "nan\n",
      "nan\n",
      "nan\n",
      "nan\n",
      "nan\n",
      "nan\n",
      "nan\n",
      "nan\n",
      "nan\n",
      "nan\n",
      "nan\n",
      "nan\n",
      "nan\n",
      "nan\n",
      "nan\n",
      "nan\n",
      "nan\n",
      "nan\n",
      "nan\n",
      "nan\n",
      "nan\n",
      "nan\n"
     ]
    }
   ],
   "source": [
    "epochs = 0\n",
    "while epochs < 1000:\n",
    "    y = a_0 + a_1 * x_train # Calculate the new value for y\n",
    "    error = y - y_train # Determine error between calculated and true\n",
    "    \n",
    "    # Cost summation\n",
    "    mean_sq_er = np.sum(error**2) # Sum the squares of the error\n",
    "    mean_sq_er = mean_sq_er / n # Divide by the number of terms\n",
    "    \n",
    "    # Term summations\n",
    "    a_0 = a_0 - alpha * 2 * np.sum(error)/n # Calculate new a0 using formula\n",
    "    a_1 = a_1 - alpha * 2 * np.sum(error*x_train)/n # Calculate new a1 using formula\n",
    "    \n",
    "    # Increment iteration counter\n",
    "    epochs += 1\n",
    "    \n",
    "    # If the iteration is a multiple of 10, print the value\n",
    "    if(epochs%10 == 0):\n",
    "        print(mean_sq_er)"
   ]
  },
  {
   "cell_type": "code",
   "execution_count": null,
   "id": "b0bf8f2b",
   "metadata": {},
   "outputs": [],
   "source": []
  }
 ],
 "metadata": {
  "kernelspec": {
   "display_name": "Python 3 (ipykernel)",
   "language": "python",
   "name": "python3"
  },
  "language_info": {
   "codemirror_mode": {
    "name": "ipython",
    "version": 3
   },
   "file_extension": ".py",
   "mimetype": "text/x-python",
   "name": "python",
   "nbconvert_exporter": "python",
   "pygments_lexer": "ipython3",
   "version": "3.10.0"
  }
 },
 "nbformat": 4,
 "nbformat_minor": 5
}
